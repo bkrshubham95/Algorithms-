{
 "cells": [
  {
   "cell_type": "markdown",
   "id": "3eb50bd4",
   "metadata": {},
   "source": [
    "# HOMEWORK - 5"
   ]
  },
  {
   "cell_type": "markdown",
   "id": "23f59955",
   "metadata": {},
   "source": [
    "##### Teams -  Shubham Bipin Kumar \n",
    "##### This work is solely done by me."
   ]
  },
  {
   "cell_type": "code",
   "execution_count": null,
   "id": "a1065115",
   "metadata": {},
   "outputs": [],
   "source": []
  },
  {
   "cell_type": "markdown",
   "id": "78c50636",
   "metadata": {},
   "source": [
    "# Problem 1: Pattern-matching: The brute-force"
   ]
  },
  {
   "cell_type": "code",
   "execution_count": null,
   "id": "130372d6",
   "metadata": {},
   "outputs": [],
   "source": [
    "QUESTION - 1.1"
   ]
  },
  {
   "cell_type": "code",
   "execution_count": 6,
   "id": "fff040bf",
   "metadata": {},
   "outputs": [
    {
     "name": "stdout",
     "output_type": "stream",
     "text": [
      "pattern found at : 14\n"
     ]
    }
   ],
   "source": [
    "def bruteForce(text, pattern):\n",
    "    n = len(text)\n",
    "    m = len(pattern)\n",
    "\n",
    "    for i in range(n-m+1):\n",
    "        k=0\n",
    "        while k < m and text[i+k] == pattern[k]:\n",
    "            k += 1\n",
    "        if k == m:\n",
    "            return i\n",
    "    return -1\n",
    "\n",
    "\n",
    "\n",
    "if __name__ == \"__main__\":\n",
    "    D = \"AAAAAAAAAAAAAAAAAAAB\"\n",
    "    P = \"AAAAA\"\n",
    "    #D = \"abcdjbasbdabdhjavsd\"\n",
    "    #P = \"javsd\"\n",
    "    print(\"pattern found at :\", bruteForce(D,P))"
   ]
  },
  {
   "cell_type": "code",
   "execution_count": null,
   "id": "6e0d9f70",
   "metadata": {},
   "outputs": [],
   "source": [
    "# The above case takes omega(db) time as the oterloop which runs till (d-p+1) times as in it looks for the first index of the pattern and seaches in the text unitil it gets for  in\n",
    "#     once the first elemnt of the pattern is found the inner loop starts which which matches rest of the elemnts of pattern with next values of the text . I the above text and pattern selected above\n",
    "# the outer loop will run till (d-p+1) and the inner loop will run evrytime for p count as the all the elements are same . so over all time complexity is (d-p+1)p can be stated as omega(dp)\n",
    "#"
   ]
  },
  {
   "cell_type": "markdown",
   "id": "53f98ff3",
   "metadata": {},
   "source": [
    "# QUESTION - 1.2 (1) - BRUTE-FORCE-NON-OVERLAP"
   ]
  },
  {
   "cell_type": "code",
   "execution_count": null,
   "id": "3ceb66fb",
   "metadata": {},
   "outputs": [],
   "source": []
  },
  {
   "cell_type": "code",
   "execution_count": 2,
   "id": "d5a930ae",
   "metadata": {},
   "outputs": [
    {
     "name": "stdout",
     "output_type": "stream",
     "text": [
      "pattern found at : [1, 11, 21]\n"
     ]
    }
   ],
   "source": [
    "def bruteForce(text, pattern):\n",
    "    n = len(text)\n",
    "    m = len(pattern)\n",
    "    i = 0\n",
    "    non_overlapping_list =[]\n",
    "    while i < n-m+1:\n",
    "        #print(j)\n",
    "        k = 0\n",
    "        #print(\"i at the begining\", i)\n",
    "        while k < m and text[i+k] == pattern[k]:\n",
    "            k += 1\n",
    "        if k == m:\n",
    "            #print(\"i before addition:\", i)\n",
    "            non_overlapping_list.append(i)\n",
    "            i += m\n",
    "            #print(\"i after addition:\", i)\n",
    "        i += 1\n",
    "\n",
    "    if (len(non_overlapping_list) > 0):\n",
    "        return non_overlapping_list\n",
    "    else:\n",
    "        return -1\n",
    "\n",
    "\n",
    "\n",
    "if __name__ == \"__main__\":\n",
    "    D = \"AcdcdcAAAAAcdcdcAAAAAcdcAAB\"\n",
    "    P = \"cdc\"\n",
    "    #P = \"xyzbv\"\n",
    "    val = bruteForce(D, P)\n",
    "    if (val == -1):\n",
    "        print(\"pattern not found in the text\")\n",
    "    else:\n",
    "        print(\"pattern found at :\", val)\n",
    "\n",
    "\n",
    "\n"
   ]
  },
  {
   "cell_type": "code",
   "execution_count": null,
   "id": "7910f6df",
   "metadata": {},
   "outputs": [],
   "source": []
  },
  {
   "cell_type": "markdown",
   "id": "6e70cf04",
   "metadata": {},
   "source": [
    "# QUESTION - 1.2 (2) - BOYERMORE-NON-OVERLAP"
   ]
  },
  {
   "cell_type": "code",
   "execution_count": 3,
   "id": "07cdafcf",
   "metadata": {},
   "outputs": [
    {
     "name": "stdout",
     "output_type": "stream",
     "text": [
      "pattern found at : [1, 11, 21]\n"
     ]
    }
   ],
   "source": [
    "def find_boyer_moore(T, p):\n",
    "    n, m = len(T), len(p)\n",
    "    if m == 0:\n",
    "        return 0\n",
    "\n",
    "    last = {}\n",
    "    non_overlapping_list = []\n",
    "\n",
    "    for k in range(m):\n",
    "        last[p[k]] = k\n",
    "    i = m - 1\n",
    "    k = m - 1\n",
    "    while i < n :\n",
    "        #If match , decrease i, k\n",
    "        if T[i] == p[k]:\n",
    "            if k == 0:\n",
    "                non_overlapping_list.append(i)\n",
    "                i = i + 2 * m\n",
    "                k = m - 1\n",
    "            else:\n",
    "                i -= 1\n",
    "                k -= 1\n",
    "        #Not match , reset the positions\n",
    "        else:\n",
    "            j = last.get(T[i], -1)\n",
    "            i += m - min(k, j+1)\n",
    "            k = m-1\n",
    "\n",
    "    if (len(non_overlapping_list) > 0):\n",
    "        return non_overlapping_list\n",
    "    else:\n",
    "        return -1\n",
    "\n",
    "if __name__ == \"__main__\":\n",
    "    D = \"AcdcdcAAAAAcdcdcAAAAAcdcAAB\"\n",
    "    P = \"cdc\"\n",
    "    #P = \"xyzbv\"\n",
    "    val = find_boyer_moore(D,P)\n",
    "    if (val == -1):\n",
    "        print(\"pattern not found in the text\")\n",
    "    else:\n",
    "        print(\"pattern found at :\", val)\n",
    "\n",
    "\n"
   ]
  },
  {
   "cell_type": "markdown",
   "id": "f254d81d",
   "metadata": {},
   "source": [
    "# QUESTION - 1.2 (2) - KMP-NON-OVERLAP"
   ]
  },
  {
   "cell_type": "code",
   "execution_count": 4,
   "id": "2da833d6",
   "metadata": {},
   "outputs": [
    {
     "name": "stdout",
     "output_type": "stream",
     "text": [
      "pattern found at : [1, 11, 21]\n"
     ]
    }
   ],
   "source": [
    "# KMP failure function\n",
    "def compute_kmp_fail(P):\n",
    "    m = len(P)\n",
    "    fail = [0] * m\n",
    "    j = 1\n",
    "    k = 0\n",
    "    while j < m:\n",
    "        if P[j] == P[k]:\n",
    "            fail[j] = k + 1\n",
    "            j += 1\n",
    "            k += 1\n",
    "        elif k > 0:\n",
    "            k = fail[k - 1]\n",
    "        else:\n",
    "            j += 1\n",
    "    return fail\n",
    "\n",
    "\n",
    "#KMP\n",
    "\n",
    "def find_kmp(T, P):\n",
    "    n, m = len(T), len(P)\n",
    "    non_overlapping_list = []\n",
    "    if m == 0:\n",
    "        return 0\n",
    "    fail = compute_kmp_fail(P)\n",
    "    #print (fail)\n",
    "    j = 0\n",
    "    k = 0\n",
    "    while j < n:\n",
    "        if T[j] == P[k]:\n",
    "            if k == m-1:\n",
    "                non_overlapping_list.append(j-m+1)\n",
    "                j += 1\n",
    "                k = 0\n",
    "                continue\n",
    "                #return j-m+1\n",
    "            j += 1\n",
    "            k += 1\n",
    "        elif k > 0:\n",
    "            k = fail[k - 1]\n",
    "        else:\n",
    "            j += 1\n",
    "\n",
    "    if (len(non_overlapping_list) > 0):\n",
    "        return non_overlapping_list\n",
    "    else:\n",
    "        return -1\n",
    "\n",
    "\n",
    "if __name__ == \"__main__\":\n",
    "    D = \"AcdcdcAAAAAcdcdcAAAAAcdcAAB\"\n",
    "    P = \"cdc\"\n",
    "    #P = \"xyzbv\"\n",
    "    val = find_kmp(D,P)\n",
    "    if (val == -1):\n",
    "        print(\"pattern not found in the text\")\n",
    "    else:\n",
    "        print(\"pattern found at :\", val)"
   ]
  },
  {
   "cell_type": "markdown",
   "id": "4b166aca",
   "metadata": {},
   "source": [
    "# Problem 2: Experimental Analysis of Pattern-Matching Algorithms"
   ]
  },
  {
   "cell_type": "code",
   "execution_count": 8,
   "id": "76d55df2",
   "metadata": {},
   "outputs": [],
   "source": [
    "# Problem 2.1\n",
    "import random\n",
    "%matplotlib inline\n",
    "import matplotlib.pyplot as plot\n",
    "\n",
    "# Brute Force\n",
    "def find_brute (T , P ) :\n",
    "    #Number of comparisions\n",
    "    comparisons = 0\n",
    "    n , m = len(T), len(P)\n",
    "    # every starting position\n",
    "    for i in range (n-m+1) :\n",
    "        k = 0\n",
    "        # conduct O(k) comparisons\n",
    "        comp_res = T[i+k] == P[k]\n",
    "        comparisons += 1\n",
    "        while k < m and comp_res:\n",
    "            k += 1\n",
    "            if k == m :\n",
    "                return i, comparisons\n",
    "            comp_res = T[i+k] == P[k]\n",
    "            comparisons += 1\n",
    "    return -1, comparisons"
   ]
  },
  {
   "cell_type": "code",
   "execution_count": 9,
   "id": "c2bc90c8",
   "metadata": {},
   "outputs": [],
   "source": [
    "# KMP failure function\n",
    "def compute_kmp_fail(P):\n",
    "    #Number of comparisions\n",
    "    comparisons = 0\n",
    "    m = len(P)\n",
    "    fail = [0] * m\n",
    "    j = 1\n",
    "    k = 0\n",
    "    while j < m :\n",
    "        comparisons += 1\n",
    "        if P [j] == P[k]:\n",
    "            fail[j] = k+1\n",
    "            j += 1\n",
    "            k += 1\n",
    "        elif k > 0:\n",
    "            k = fail [k-1]\n",
    "        else :\n",
    "            j += 1\n",
    "    return fail, comparisons\n",
    "\n"
   ]
  },
  {
   "cell_type": "code",
   "execution_count": 10,
   "id": "8fe64a2a",
   "metadata": {},
   "outputs": [],
   "source": [
    "# KMP\n",
    "def find_kmp(T, P) :\n",
    "    n, m = len(T), len(P)\n",
    "    if m == 0:\n",
    "        return 0\n",
    "    fail, comparisons = compute_kmp_fail(P)\n",
    "    # print(fail)\n",
    "    j = 0\n",
    "    k = 0\n",
    "    while j < n :\n",
    "        comparisons += 1\n",
    "        if T[j] == P[k]:\n",
    "            if k == m-1:\n",
    "                return j-m+1, comparisons\n",
    "            j += 1\n",
    "            k += 1\n",
    "        elif k > 0:\n",
    "            k = fail[k-1]\n",
    "        else :\n",
    "            j += 1\n",
    "    return -1, comparisons\n",
    "\n"
   ]
  },
  {
   "cell_type": "code",
   "execution_count": 11,
   "id": "0dff9b84",
   "metadata": {},
   "outputs": [],
   "source": [
    "# Boyer-Moore\n",
    "def find_boyer_moore (T, P) :\n",
    "    comparisions = 0\n",
    "    n ,m = len(T), len(P)\n",
    "    if m == 0:\n",
    "        return 0\n",
    "    last = {}\n",
    "    for k in range(m) :\n",
    "        last[P[k]] = k\n",
    "    i = m-1\n",
    "    k = m-1\n",
    "    while i < n :\n",
    "        comparisions += 1\n",
    "        # If match , decrease i,k\n",
    "        if T[i] == P[k]:\n",
    "            if k == 0:\n",
    "                return i, comparisions\n",
    "            else :\n",
    "                i -= 1\n",
    "                k -= 1\n",
    "        # Not match , reset the positions\n",
    "        else :\n",
    "            j = last.get(T[i], -1)\n",
    "            i += m - min(k, j+1)\n",
    "            k = m-1\n",
    "    return -1, comparisions"
   ]
  },
  {
   "cell_type": "code",
   "execution_count": 12,
   "id": "77bd16db",
   "metadata": {},
   "outputs": [
    {
     "data": {
      "image/png": "[encoded data removed]",
      "text/plain": [
       "<Figure size 432x288 with 1 Axes>"
      ]
     },
     "metadata": {
      "needs_background": "light"
     },
     "output_type": "display_data"
    }
   ],
   "source": [
    "def line_color(A):\n",
    "    if A == find_brute.__name__:\n",
    "        return 'r'\n",
    "    elif A == find_boyer_moore.__name__:\n",
    "        return 'g'\n",
    "    else:\n",
    "        return 'c'\n",
    "\n",
    "long_text = []\n",
    "alphabet_case_bases = [96, 65]\n",
    "text_len = 10 ** 7\n",
    "for i in range(text_len):\n",
    "    alphabet_case = random.sample(alphabet_case_bases, 1)[0]\n",
    "    long_text.append(chr(random.randint(alphabet_case, alphabet_case + 25)))\n",
    "long_text = ''.join(long_text)\n",
    "algo_name_to_data = {}\n",
    "\n",
    "\n",
    "fig, axes = plot.subplots()\n",
    "\n",
    "# For pattern in text\n",
    "for A in [find_brute, find_boyer_moore, find_kmp]:\n",
    "    algo_name_to_data[A.__name__] = {}\n",
    "\n",
    "for pattern_size in random.sample(range(1, text_len // 4), 50): \n",
    "    pattern_location = text_len - pattern_size - 1\n",
    "    pattern = long_text[pattern_location: pattern_location + pattern_size]\n",
    "    for A in [find_brute, find_boyer_moore, find_kmp]:\n",
    "        _, no_of_comparisons = A(long_text, pattern)\n",
    "        algo_name_to_data[A.__name__][pattern_size] = no_of_comparisons\n",
    "\n",
    "for A in [find_brute, find_boyer_moore, find_kmp]:\n",
    "    algo_name_to_data[A.__name__] = {key : algo_name_to_data[A.__name__][key] for key in sorted(algo_name_to_data[A.__name__])}\n",
    "\n",
    "\n",
    "for A in [find_brute, find_boyer_moore, find_kmp]:\n",
    "    data = algo_name_to_data[A.__name__]\n",
    "    axes.plot(list(data.keys()), list(data.values()), line_color(A.__name__), label= A.__name__)\n",
    "    axes.set_xlabel('Pattern size')\n",
    "    axes.set_ylabel('No of comparisons')\n",
    "    axes.set_title(f\"Text length: {text_len}, pattern in text\")\n",
    "    axes.legend()\n",
    "\n"
   ]
  },
  {
   "cell_type": "markdown",
   "id": "e51d3bec",
   "metadata": {},
   "source": [
    "# Problem 2.2"
   ]
  },
  {
   "cell_type": "code",
   "execution_count": 13,
   "id": "50c8e4f3",
   "metadata": {},
   "outputs": [],
   "source": [
    "# Problem 2.2\n",
    "%matplotlib inline\n",
    "import random\n",
    "import matplotlib.pyplot as plot\n",
    "import time\n",
    "import math"
   ]
  },
  {
   "cell_type": "code",
   "execution_count": 14,
   "id": "355263e2",
   "metadata": {},
   "outputs": [],
   "source": [
    "# Brute force\n",
    "def find_brute(T, P) :\n",
    "    n , m = len(T) , len (P)\n",
    "    # every starting position\n",
    "    for i in range (n-m +1) :\n",
    "        k = 0\n",
    "        # conduct O(k) comparisons\n",
    "        while k < m and T [i+k] == P[k]:\n",
    "            k += 1\n",
    "            if k == m :\n",
    "                return i\n",
    "    return -1"
   ]
  },
  {
   "cell_type": "code",
   "execution_count": 15,
   "id": "7d5b9081",
   "metadata": {},
   "outputs": [],
   "source": [
    "# KMP failure function\n",
    "def compute_kmp_fail(P) :\n",
    "    m = len(P)\n",
    "    fail = [0] * m\n",
    "    j = 1\n",
    "    k = 0\n",
    "    while j < m :\n",
    "        if P[j] == P[k]:\n",
    "            fail[j] = k+1\n",
    "            j += 1\n",
    "            k += 1\n",
    "        elif k > 0:\n",
    "            k = fail[k-1]\n",
    "        else :\n",
    "            j += 1\n",
    "    return fail"
   ]
  },
  {
   "cell_type": "code",
   "execution_count": 16,
   "id": "4006eb62",
   "metadata": {},
   "outputs": [],
   "source": [
    "# KMP\n",
    "def find_kmp(T, P) :\n",
    "    n, m = len(T), len(P)\n",
    "    if m == 0:\n",
    "        return 0\n",
    "    fail = compute_kmp_fail(P)\n",
    "    # print ( fail )\n",
    "    j = 0\n",
    "    k = 0\n",
    "    while j < n :\n",
    "        if T[j] == P[k]:\n",
    "            if k == m -1:\n",
    "                return j-m+1\n",
    "            j += 1\n",
    "            k += 1\n",
    "        elif k > 0:\n",
    "            k = fail[k-1]\n",
    "        else :\n",
    "            j += 1\n",
    "    return -1"
   ]
  },
  {
   "cell_type": "code",
   "execution_count": 17,
   "id": "48478656",
   "metadata": {},
   "outputs": [],
   "source": [
    "# Boyer - Moore\n",
    "def find_boyer_moore (T, P) :\n",
    "    n , m = len(T) , len(P)\n",
    "    if m == 0:\n",
    "        return 0\n",
    "    last = {}\n",
    "    for k in range(m) :\n",
    "        last[P[k]] = k\n",
    "    i = m-1\n",
    "    k = m-1\n",
    "    while i < n :\n",
    "        # If match , decrease i,k\n",
    "        if T[i] == P[k]:\n",
    "            if k == 0:\n",
    "                return i\n",
    "            else :\n",
    "                i -= 1\n",
    "                k -= 1\n",
    "        # Not match , reset the positions\n",
    "        else :\n",
    "            j = last.get(T[i],-1)\n",
    "            i += m - min(k, j+1)\n",
    "            k = m -1\n",
    "    return -1"
   ]
  },
  {
   "cell_type": "code",
   "execution_count": 18,
   "id": "6a7dcac6",
   "metadata": {},
   "outputs": [],
   "source": [
    "def get_runtime(algo, T, P):\n",
    "    # process_time() counts the process time and not system wide time thus avoids counting context switches giving a more accurate measurement of the algorithm runtime\n",
    "    start = time.process_time()\n",
    "    algo(T, P)\n",
    "    stop = time.process_time()\n",
    "\n",
    "    return stop - start"
   ]
  },
  {
   "cell_type": "code",
   "execution_count": 19,
   "id": "980c9091",
   "metadata": {},
   "outputs": [
    {
     "data": {
      "image/png": "[encoded data removed]",
      "text/plain": [
       "<Figure size 432x288 with 1 Axes>"
      ]
     },
     "metadata": {
      "needs_background": "light"
     },
     "output_type": "display_data"
    }
   ],
   "source": [
    "def line_color(A):\n",
    "    if A == find_brute.__name__:\n",
    "        return 'r'\n",
    "    elif A == find_boyer_moore.__name__:\n",
    "        return 'g'\n",
    "    else:\n",
    "        return 'c'\n",
    "\n",
    "long_text = []\n",
    "alphabet_case_bases = [96, 65]\n",
    "text_len = 10 ** 7\n",
    "for i in range(text_len):\n",
    "    alphabet_case = random.sample(alphabet_case_bases, 1)[0]\n",
    "    long_text.append(chr(random.randint(alphabet_case, alphabet_case + 25)))\n",
    "long_text = ''.join(long_text)\n",
    "algo_name_to_data = {}\n",
    "\n",
    "\n",
    "fig, axes = plot.subplots()\n",
    "\n",
    "# For pattern in text\n",
    "for A in [find_brute, find_boyer_moore, find_kmp]:\n",
    "    algo_name_to_data[A.__name__] = {}\n",
    "\n",
    "for pattern_size in random.sample(range(1, text_len // 4), 50): \n",
    "    pattern_location = text_len - pattern_size - 1\n",
    "    pattern = long_text[pattern_location: pattern_location + pattern_size]\n",
    "    for A in [find_brute, find_boyer_moore, find_kmp]:\n",
    "        runtime = get_runtime(A, long_text, pattern)\n",
    "        algo_name_to_data[A.__name__][pattern_size] = math.log(runtime)\n",
    "\n",
    "for A in [find_brute, find_boyer_moore, find_kmp]:\n",
    "    algo_name_to_data[A.__name__] = {key : algo_name_to_data[A.__name__][key] for key in sorted(algo_name_to_data[A.__name__])}\n",
    "\n",
    "\n",
    "for A in [find_brute, find_boyer_moore, find_kmp]:\n",
    "    data = algo_name_to_data[A.__name__]\n",
    "    axes.plot(list(data.keys()), list(data.values()), line_color(A.__name__), label= A.__name__)\n",
    "    axes.set_xlabel('Pattern size')\n",
    "    axes.set_ylabel('Running time (log)')\n",
    "    axes.set_title(f\"Text length: {text_len}, pattern in text\")\n",
    "    axes.legend()\n",
    "\n"
   ]
  },
  {
   "cell_type": "markdown",
   "id": "f2b3413c",
   "metadata": {},
   "source": [
    "# Problem 3: Matrix-chain Multiplication\n"
   ]
  },
  {
   "cell_type": "code",
   "execution_count": 26,
   "id": "38728fb1",
   "metadata": {},
   "outputs": [
    {
     "name": "stdout",
     "output_type": "stream",
     "text": [
      "Minimum number of multiplications is  40500\n",
      "Optimal parenthesis is:\n",
      "(((((AB)C)D)E)F)"
     ]
    }
   ],
   "source": [
    "#3.1 Brute Force\n",
    "import sys\n",
    "\n",
    "def optimal(s,i,j):\n",
    "    if i == j:\n",
    "        print(chr(64 + i), end = \"\")\n",
    "        return\n",
    "\n",
    "    else:\n",
    "        print (\"(\", end = \"\")\n",
    "    optimal(s,i,s[i][j])\n",
    "    optimal(s,s[i][j]+1,j)\n",
    "    print (\")\", end = \"\")\n",
    "\n",
    "def MatrixChainOrder(p, i, j, s):\n",
    "\n",
    "    if i == j:\n",
    "        return 0\n",
    "\n",
    "    m = sys.maxsize\n",
    "\n",
    "    for k in range(i, j):\n",
    "\n",
    "        count = (MatrixChainOrder(p, i, k,s)\n",
    "        + MatrixChainOrder(p, k + 1, j,s)\n",
    "        + p[i-1] * p[k] * p[j])\n",
    "\n",
    "    if count < m:\n",
    "        m = count\n",
    "        s[i][j] = k\n",
    "\n",
    "    return m\n",
    "\n",
    "A = [30, 35, 15, 5, 10, 20, 25]\n",
    "n = len(A)\n",
    "s = [[0 for i in range(n)] for i in range(n)]\n",
    "print(\"Minimum number of multiplications is \",\n",
    "MatrixChainOrder(A, 1, n-1,s))\n",
    "print(\"Optimal parenthesis is:\")\n",
    "optimal(s,1,n-1)"
   ]
  },
  {
   "cell_type": "code",
   "execution_count": 28,
   "id": "9503409b",
   "metadata": {},
   "outputs": [
    {
     "name": "stdout",
     "output_type": "stream",
     "text": [
      "Minimum number of scalar multiplications to multiply the matrices is: 15125\n",
      "Optimal parenthesis is:\n",
      "((A(BC))((DE)F))"
     ]
    }
   ],
   "source": [
    "#3.2 Bottomup approach\n",
    "import sys\n",
    "import math\n",
    "\n",
    "def optimal(s,i,j):\n",
    "    if i == j:\n",
    "        print(chr(64 + i), end = \"\")\n",
    "        return\n",
    "\n",
    "\n",
    "    else:\n",
    "        print (\"(\", end = \"\")\n",
    "        optimal(s,i,s[i][j])\n",
    "        optimal(s,s[i][j]+1,j)\n",
    "        print (\")\", end = \"\")\n",
    "\n",
    "def matrix_chain_order(p):\n",
    "    n = len(p)\n",
    "    m = [[0 for i in range(n)] for i in range(n)]\n",
    "    s = [[0 for i in range(n)] for i in range(n)]\n",
    "\n",
    "    for i in range(1, n):\n",
    "        m[i][i] = 0\n",
    "    for l in range(2,n):\n",
    "        for i in range(1,n-l+1):\n",
    "            j = i + l - 1\n",
    "            m[i][j] = sys.maxsize\n",
    "            for k in range(i, j):\n",
    "                q = m[i][k] + m[k+1][j] + p[i-1]*p[k]*p[j]\n",
    "                if q < m[i][j]:\n",
    "                    m[i][j] = q\n",
    "                    s[i][j] = k\n",
    "\n",
    "    return m, s\n",
    "\n",
    "\n",
    "A = [30, 35, 15, 5, 10, 20, 25]\n",
    "name = \"A\"\n",
    "m,s = matrix_chain_order(A)\n",
    "print(\"Minimum number of scalar multiplications to multiply the matrices is:\", m[1][len(A)-1])\n",
    "print(\"Optimal parenthesis is:\")\n",
    "optimal(s,1,len(A)-1)"
   ]
  },
  {
   "cell_type": "code",
   "execution_count": 29,
   "id": "dc034b10",
   "metadata": {},
   "outputs": [
    {
     "name": "stdout",
     "output_type": "stream",
     "text": [
      "Minimum number of multiplications required is 15125\n",
      "Optimal Parenthesis  is ((D1(D2D3))((D4D5)D6))"
     ]
    }
   ],
   "source": [
    "# 3. Dynamic Programming with Memoization\n",
    "import sys\n",
    "\n",
    "id_x = 1\n",
    "\n",
    "\n",
    "def next_match():\n",
    "    global id_x\n",
    "    id_x = id_x + 1\n",
    "\n",
    "\n",
    "def print_parenthesis(i, j, n, order, count):\n",
    "    global id_x\n",
    "    count = id_x\n",
    "    if i == j:\n",
    "        print(\"D{}\".format(count), end='')\n",
    "        next_match()\n",
    "        return\n",
    "\n",
    "    print(\"(\", end='')\n",
    "    print_parenthesis(i, order[i][j], n, order, count)\n",
    "    print_parenthesis(order[i][j] + 1, j, n, order, count)\n",
    "\n",
    "    print(\")\", end='')\n",
    "\n",
    "\n",
    "def matrix_chain_memoised(p, i, j, dp, order):\n",
    "    if (i == j):\n",
    "        return [0, order]\n",
    "\n",
    "    if (dp[i][j] != -1):\n",
    "        return [dp[i][j], order]\n",
    "\n",
    "    dp[i][j] = sys.maxsize\n",
    "\n",
    "    for k in range(i, j):\n",
    "        val = (matrix_chain_memoised(p, i, k, dp, order)[0] + matrix_chain_memoised(p, k + 1, j, dp, order)[0] + p[\n",
    "            i - 1] * p[k] * p[j])\n",
    "        if val < dp[i][j]:\n",
    "            dp[i][j] = val\n",
    "            order[i][j] = k\n",
    "\n",
    "    return [dp[i][j], order]\n",
    "\n",
    "\n",
    "def matrix_chain_order(p, n):\n",
    "    i = 1\n",
    "    j = n - 1\n",
    "    dp = [[-1 for i in range(n)] for j in range(n)]\n",
    "    order = [[None for i in range(n)] for j in range(n)]\n",
    "    return matrix_chain_memoised(p, i, j, dp, order)\n",
    "\n",
    "\n",
    "# main Code\n",
    "arr = [30, 35, 15, 5, 10, 20, 25]\n",
    "n = len(arr)\n",
    "val = matrix_chain_order(arr, n)\n",
    "print(\"Minimum number of multiplications required is\", val[0])\n",
    "print(\"Optimal Parenthesis  is \", end=\"\")\n",
    "print_parenthesis(1, n - 1, n, val[1], 1)"
   ]
  },
  {
   "cell_type": "markdown",
   "id": "b8d077e5",
   "metadata": {},
   "source": [
    "# Problem 4: Longest Common Sub-sequence (LCS) Problem"
   ]
  },
  {
   "cell_type": "code",
   "execution_count": 5,
   "id": "75906559",
   "metadata": {},
   "outputs": [
    {
     "name": "stdout",
     "output_type": "stream",
     "text": [
      "longest common sub-sequence of length 108 between dna string is DIALNMARGQGVVMDGDSRILNDMEKNRAELTELNKANEVQSSRSVTELRRLGEIELQSSSSLEKYLQIIGEELQLMESEIDVKLATLGGYRETSTIKESSSSFSQGS\n"
     ]
    }
   ],
   "source": [
    "def findlcs(text1 , text2):\n",
    "    m = len(text1)\n",
    "    n = len(text2)\n",
    "\n",
    "    max_lcs_count = 0\n",
    "    res = ''\n",
    "    # create a table of (m+1) * (n+1) and initalize it with zero\n",
    "    table = [[0 for j in range(n+1)] for i in range(m+1)]\n",
    "\n",
    "    #for creating table if character are same take diagonal value\n",
    "    #else take max of previous row or column\n",
    "    for i in range(1, m+1):\n",
    "        for j in range(1, n+1):\n",
    "            if text1[i - 1] == text2[j - 1]:\n",
    "                table[i][j] = 1 + table[i - 1][j - 1]\n",
    "            else:\n",
    "                if table[i - 1][j] > table[i][j - 1]:\n",
    "                    table[i][j] = table[i - 1][j]\n",
    "                else:\n",
    "                    table[i][j] = table [i][j - 1]\n",
    "\n",
    "    max_lcs_count = table[m][n]\n",
    "\n",
    "    #now for returning the longest common subsequence we have to backtrack the table\n",
    "    #and see where the value is coming from and see if the character are common at that index\n",
    "    # and append that character in result and reverse of that result string is what we are looking for\n",
    "\n",
    "    x = m\n",
    "    y = n\n",
    "\n",
    "\n",
    "    while x > 0 and y > 0:\n",
    "        if text1[x - 1] == text2[y - 1]:\n",
    "            res += text1[x-1]\n",
    "            x -= 1\n",
    "            y -= 1\n",
    "        else:\n",
    "            if table[x - 1][y] > table[x][y - 1]:\n",
    "                x = x - 1\n",
    "            else:\n",
    "                y = y - 1\n",
    "\n",
    "    return max_lcs_count, res[::-1]\n",
    "\n",
    "\n",
    "\n",
    "\n",
    "if __name__ == \"__main__\":\n",
    "    dna_string2 = \"VTLARTDLEMQIEGLKEELAYLRKNHEEEMLALRGQTGGDVNVEMDAAPGVDLSRILNEMRDQYEQMAEKNRRDAETWFLSKTEELNKEVASNSELVQSSRSEVTELRRVLQGLEIELQSQLSTKASLENSLEETKGRYCMQLSQIQGLIGSVEEQLAQLRCEMEQQSQEYQILLDVKTRLEHEIATYRRLLXGEDAHLSSQQASGQSYSSREVFTSSSSSSSRQTRPILKEQSSSSFSQGQSS\"\n",
    "    dna_string1 = \"MDDDIAALVVDNGSGMCKAGFAGDDAPRAVFPSIVGRPRHQGVMVGMGQKDSYVGDEAQSKRGILTLKYPIEHGIVTNWDDMEKIWHHTFYNELRVAPEEHPVLLTEAPLNPKANREKMTQIMFETFNTPAMYVAIQAVLSLYASGRTTGIVMDSGDGVTHTVPIYEGYALPHAILRLDLAGRDLTDYLMKILTERGYSFTTTAEREIVRDIKEKLCYVALDFEQEMATAASSSSLEKSYELPDGQVITIGNERFRCPEALFQPSFLGMESCGIHETTFNSIMKCDVDIRKDLYANTVLSGGTTMYPGIADRMQKEITALAPSTMKIKIIAPPERKYSVWIGGSILASLSTFQQMWISKQEYDESGPSIVHRKCF\"\n",
    "    max_length, lcs_string = findlcs(dna_string1, dna_string2)\n",
    "    print(f\"longest common sub-sequence of length {max_length} between dna string is {lcs_string}\")"
   ]
  },
  {
   "cell_type": "code",
   "execution_count": null,
   "id": "9970d880",
   "metadata": {},
   "outputs": [],
   "source": [
    "longest common sub-sequence is the sequece that occurs commonly in both the texts while traversing in forward diection \n",
    "the direction of the chracter to chracter arrow should not intersect."
   ]
  },
  {
   "cell_type": "markdown",
   "id": "59d2de78",
   "metadata": {},
   "source": [
    "# REPORT"
   ]
  },
  {
   "cell_type": "markdown",
   "id": "f97e907f",
   "metadata": {},
   "source": [
    "1.\n",
    "In the brute force approach of pattern matching we start from the first index of the pattern and match it with the first index of the text . if there is any mismatch we start from the second index of the text . so if the text is of size d and pattern of size p then we have time complexity of dp .As far as the space complexity goes we are only storing text and the pattern so whatever max size of the text or pattern.\n",
    "\n",
    "For non overlapping pattern in text we follow the same approach except if the charcters are overlapping in the text then we will have to avoid that and again keep looking for the next sequence.The time complexity in this case will be dp as well.\n",
    "\n",
    "In case of boyer more we start from end of the pattern and same index for the text as well and upon mismatch we find the occurance of the mismatch  element in the  the pattern and move that index corresponding to the text character and start the search again. Time complexity best case scenarion is O(d+p) and worst case O(d*p)\n",
    " \n",
    "In case of KMP we create as table after creating all the suffic and prefixes of the pattern and matching the same . then . Then upon mismatch we use lookup table to see the index where we should move and start the seach again .\n",
    "time complexity is - overall complexity is O(d+p) \n",
    "\n",
    "\n",
    "2\n",
    "From the graph we can see the larger he text file more the time is taken . In case of boyer moore the it start from less and then increases where as for KMP and bruteforce the comparisions are high. and same can be seen in case of the running time as well . The performace wise booyer moore is performing better than brute force and KMP  algorithms for the tested values.\n",
    "\n",
    "\n",
    "\n",
    "3...\n",
    "In brute force approach we place parenthesis at all possible places, calculate the cost for each placement and return the minimum value.The time complexity is exponenetial as it is the recursive approach .\n",
    "we avoid this by storing the previously calculated values using dynamic programming where recomputations of same subproblems can be avoided by constructing a temporary array m[][] in bottom up manner. Time complexity for this approach is O(n^3) and space complexity is O(n^2).\n",
    " \n",
    "\n",
    "\n",
    "4..\n",
    "we create a table of (m+1) * (n+1) and initalize it with zero.for creating table if character are same take diagonal value else take max of previous row or column. now for returning the longest common subsequence we have to backtrack the table and see where the value is coming from and see if the character are common at that index and append that character in result and reverse of that result string is what we are looking for. Time complexity is O(m*n)\n",
    "\n"
   ]
  }
 ],
 "metadata": {
  "kernelspec": {
   "display_name": "Python 3 (ipykernel)",
   "language": "python",
   "name": "python3"
  },
  "language_info": {
   "codemirror_mode": {
    "name": "ipython",
    "version": 3
   },
   "file_extension": ".py",
   "mimetype": "text/x-python",
   "name": "python",
   "nbconvert_exporter": "python",
   "pygments_lexer": "ipython3",
   "version": "3.9.7"
  }
 },
 "nbformat": 4,
 "nbformat_minor": 5
}
