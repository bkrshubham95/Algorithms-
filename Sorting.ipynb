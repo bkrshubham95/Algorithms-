{
 "cells": [
  {
   "cell_type": "code",
   "execution_count": null,
   "id": "eff13e13",
   "metadata": {},
   "outputs": [],
   "source": [
    "APPLIED ALGO ASSIGNEMENT 4"
   ]
  },
  {
   "cell_type": "markdown",
   "id": "4e7067e6",
   "metadata": {},
   "source": [
    "NAME- SHUBHAM BIPIN KUMAR\n",
    "USERID -SBIPINK\n"
   ]
  },
  {
   "cell_type": "code",
   "execution_count": null,
   "id": "4a302226",
   "metadata": {},
   "outputs": [],
   "source": [
    "Q1.Algorithm"
   ]
  },
  {
   "cell_type": "markdown",
   "id": "85994458",
   "metadata": {},
   "source": [
    "Algo Solution:\n",
    "\n",
    "Input : D1 and D2 an unsorted sequence\n",
    "Output: Boolean True and False\n",
    "\n",
    "Algo1:\n",
    "\n",
    "Add D1 to set n\n",
    "N = set(D1)\n",
    "P = set(D2)\n",
    "If P==N \n",
    "\treturn True\n",
    "Else:\n",
    "\treturn False\n",
    "\n",
    "\n",
    "Algo2:\n",
    "\n",
    "Add list D1 and D2 to a new list D3\n",
    "D3 = D1 + D2 \n",
    "For elements in D3\n",
    " if element not in D1 and element not in D2\n",
    "Return False\n"
   ]
  },
  {
   "cell_type": "markdown",
   "id": "c8463dba",
   "metadata": {},
   "source": [
    "Report Q1:\n",
    "The algorithm find if the distict element in two lists are same or not . In algorithm 1 I put all the elemets of both the lists into two seperate sets .Adding n elements to the set take O(n) time as adding each elements takes O(1) time and similarly for second list it takes O(n) time .\n",
    "Now set keeps only distinct elements now now we can compare both the set and find if both of them has the same elements .Now the set comparision takes O(n) time where n is the distinct element in the larger size set .\n",
    "Hence the total time taken will be 3*O(n) which can be denoted as O(n) and space complexity wise both the list are in order n and same goes for both the sets as well so It can be said of O(n)\n",
    "\n",
    "second proposed algo makes a new list with combination of 1 and 2 and checks for each element if its present in list 1 and 2 . It is of order O(n^2) and space complexity O(n)"
   ]
  },
  {
   "cell_type": "code",
   "execution_count": null,
   "id": "5e088bbd",
   "metadata": {},
   "outputs": [],
   "source": [
    "QUESTION 2 - ALGORITHM"
   ]
  },
  {
   "cell_type": "markdown",
   "id": "9df4afd5",
   "metadata": {},
   "source": [
    "Algorithm Design 2:\n",
    "\n",
    "Input – unsorted array D\n",
    "Output – sorted array B\n",
    "\n",
    "B =[]\n",
    "K =Max(A)\n",
    "Highest_value = D[-1]\n",
    "While Highest_value!= 0\n",
    "\t Highest_value // =10\n",
    "\tCount += 1\n",
    "RadixSort(A,count):\n",
    "\tFor I =1 to d\n",
    "\t\tCounting(A,B,K)\n",
    "\n",
    "Counting-Sort(A,B,K):\n",
    "\tLet C[0….k] be new array\n",
    "\tFor I =0 to k\n",
    "\t\tC[i] = 0\n",
    "\tFor j =1 to A.length\n",
    "\t\tC[A[j]] =  C[A[j]] +1\n",
    "\tFor I =1 to k \n",
    "\t\tC[i] = C[i] + C[i-1]\n",
    "\tFor j = A.length downto 1\n",
    "\t\tB[C[A[j]]] = A[j]\n",
    "\t\tC[A[j]] = C [A[j]] -1\n",
    "\tReturn C\n",
    "\t\t\n"
   ]
  },
  {
   "cell_type": "markdown",
   "id": "02a983d3",
   "metadata": {},
   "source": [
    "Report Question2:\n",
    "    For sorting an array of integer in linear time I have implemented a redix sort which internally uses counting sort for sorting each digits . The redix sort takes O(n+k) time where  digits can take upto k possible values and the time complexity for the counting sort is O(n+k) so the overall time complexity is linear . and as for space complexity is also O(n+k) + O(n)+O(n) so O(n) overall\n",
    "    "
   ]
  },
  {
   "cell_type": "markdown",
   "id": "d9599c66",
   "metadata": {},
   "source": [
    "Problem 3: Algorithm Design 3"
   ]
  },
  {
   "cell_type": "markdown",
   "id": "41ed3b2b",
   "metadata": {},
   "source": [
    "Given a sequence D of n elements, on which a total order relation is defined, describe an efficient method for determining whether there are two equal elements in D. What is the running time of your method?"
   ]
  },
  {
   "cell_type": "markdown",
   "id": "86502fa2",
   "metadata": {},
   "source": [
    "The given problem can be implemented using the following steps:\n",
    "\n",
    "Iterate through each element in 'D' & create a dictionary, in which the key will be an element from the sequence & value will correspond to the frequency of that element.\n",
    "Get the maximum value from the values of the dictionary with the help of 'max' function & check for the condition; if maximum value is greater than 1. If true, then there are two equal elements in D, else there are no two equal elements in D."
   ]
  },
  {
   "cell_type": "markdown",
   "id": "8f862d18",
   "metadata": {},
   "source": [
    "Algorithm:\n",
    "\n",
    "Input: D (unsorted sequence) \n",
    "Output: Two equal elements or not \n",
    "\n",
    "Create a dictionary dupli_check{ } \n",
    "Input_length = len(D) \n",
    "\n",
    "for i in D do \n",
    "   if i in dupli_check do \n",
    "      dupli_check[i] = dupli_check[i] + 1 \n",
    "   else do \n",
    "      dupli_check[i] = 1 \n",
    "\n",
    "if max(dupli_check.values())  >\n",
    ">\n",
    "  1 do \n",
    "   print('There are two equal elements in D') \n",
    "else do \n",
    "   print('There are no two equal elements in D') "
   ]
  },
  {
   "cell_type": "code",
   "execution_count": null,
   "id": "6c4e46b5",
   "metadata": {},
   "outputs": [],
   "source": []
  },
  {
   "cell_type": "code",
   "execution_count": null,
   "id": "788e8392",
   "metadata": {},
   "outputs": [],
   "source": [
    "QUESTION - 4"
   ]
  },
  {
   "cell_type": "code",
   "execution_count": 9,
   "id": "cd8ce9fa",
   "metadata": {},
   "outputs": [
    {
     "name": "stdout",
     "output_type": "stream",
     "text": [
      "[[5], [6], [20], [25], [10, 15]]\n",
      "[[20], [25], [10, 15], [5, 6]]\n",
      "[[10, 15], [5, 6], [20, 25]]\n",
      "[[20, 25], [5, 6, 10, 15]]\n",
      "[[5, 6, 10, 15, 20, 25]]\n",
      "[5, 6, 10, 15, 20, 25]\n"
     ]
    }
   ],
   "source": [
    "from collections import deque\n",
    "\n",
    "\n",
    "def merge(q1, q2):\n",
    "    #get elemnts from the singuar queues and create an empty queue\n",
    "    a, b, c = deque(q1), deque(q2), []\n",
    "    #compare both values and append to empty list simultaneously\n",
    "    while len(a) > 0 and len(b) > 0:\n",
    "        if a[0] < b[0]: c.append(a.popleft())\n",
    "        else:   c.append(b.popleft())\n",
    "\n",
    "    return c+list(a)+list(b)\n",
    "\n",
    "\n",
    "def merge_sort(A):\n",
    "    #if only one element return the same\n",
    "    if len(A) <= 1:\n",
    "        return list(A)\n",
    "    #Q = [a] for a in A\n",
    "    # convert all the elements of the list into seperate queues\n",
    "    q = deque([a] for a in A)\n",
    "    #print(q)\n",
    "    while True:\n",
    "        #get the first element queue\n",
    "        q1 = q.popleft()\n",
    "        if len(q) == 0:\n",
    "            return q1\n",
    "        #get the second element queue\n",
    "        q2 = q.popleft()\n",
    "        #print('merging', q1, 'and', q2)\n",
    "        #call merge on first and second element\n",
    "        q.append(merge(q1, q2))\n",
    "        print(list(q))\n",
    "\n",
    "\n",
    "\n",
    "\n",
    "\n",
    "\n",
    "if __name__ == \"__main__\":\n",
    "    A = [10, 15, 5, 6, 20, 25]\n",
    "    print(merge_sort(A))\n"
   ]
  },
  {
   "cell_type": "markdown",
   "id": "ccc67150",
   "metadata": {},
   "source": [
    "Report Question4- \n",
    "Merge sort has two part 1st seperating all the elements of a list in seperate queue we we pop one at a time and compare with the next elemet that is where the merge function comes into picture where we compare elents of both list and place it accordingly into a seperate queue and the process repeats until we have all the elements sorted into a single queue. in each operating two queues are joined together to form a single queue .\n",
    "The merge-sort algorithms sorts a sequence S of size n in O(nlogn) time.The space complexity is O(n)"
   ]
  },
  {
   "cell_type": "code",
   "execution_count": null,
   "id": "8ac33a8b",
   "metadata": {},
   "outputs": [],
   "source": [
    "QUESTION -5 "
   ]
  },
  {
   "cell_type": "code",
   "execution_count": 11,
   "id": "44090f11",
   "metadata": {},
   "outputs": [
    {
     "name": "stdout",
     "output_type": "stream",
     "text": [
      "unorderd array [1, 10, 15, 5, 6, 19, 25, 6, 12, 14]\n",
      "[1, 5, 6, 6, 10, 12, 14, 15, 19, 25]\n"
     ]
    }
   ],
   "source": [
    "import math\n",
    "#Building max heap array\n",
    "def build_max_heap(D):\n",
    "    input_length = len(D)\n",
    "    global heap_size\n",
    "    heap_size = len(D)\n",
    "    #taking middle of the array to check the relation and apply heapify\n",
    "    mid = math.floor(input_length/2)\n",
    "    #print(D)\n",
    "    for i in range(mid,0,-1):\n",
    "        max_heapify(D,i)\n",
    "\n",
    "\n",
    "def max_heapify(D,i):\n",
    "    #print(D)\n",
    "    #setting left and right child for ith parent\n",
    "    l = left(i)\n",
    "    r = right(i)\n",
    "    global heap_size\n",
    "    input_length = len(D)\n",
    "    #heap_size = input_length\n",
    "    #print('heap_size',heap_size)\n",
    "    #print(\"i:\",i)\n",
    "    #checking if left child index is within index range and if left child is greater than ith parent \n",
    "    if l <= heap_size-1 and D[l] > D[i]:\n",
    "        largest = l\n",
    "    else:\n",
    "        largest = i\n",
    "\n",
    "    if r <= heap_size-1 and D[r] > D[largest]:\n",
    "        largest = r\n",
    "    #if i is not the largest then swapping parent and child\n",
    "    if largest != i:\n",
    "        D[i], D[largest] = D[largest], D[i]\n",
    "        max_heapify(D, largest)\n",
    "\n",
    "def parent(i):\n",
    "    return math.floor(i/2)\n",
    "\n",
    "def left(i):\n",
    "    return 2*i\n",
    "\n",
    "\n",
    "def right(i):\n",
    "    return 2*i+1\n",
    "\n",
    "\n",
    "def heap_sort(D):\n",
    "    global heap_size\n",
    "    build_max_heap(D)\n",
    "    #print('built max heap:',D)\n",
    "    input_length =len(D)\n",
    "    #swap the root value to end and call heapify again to get maximum at root and repeat the process\n",
    "    for i in range(input_length-1, 1, -1):\n",
    "        D[i], D[1] = D[1], D[i]\n",
    "        heap_size = heap_size -1\n",
    "        max_heapify(D,1)\n",
    "\n",
    "    #print(D)\n",
    "\n",
    "\n",
    "\n",
    "D = [1,10,15,5,6,19,25,6,12,14]\n",
    "print(\"unorderd array\",D)\n",
    "D = [0]+D\n",
    "#S = []\n",
    "global heap_size\n",
    "heap_sort(D)\n",
    "#print(D)\n",
    "D.pop(0)\n",
    "print(D)"
   ]
  },
  {
   "cell_type": "markdown",
   "id": "846cd04d",
   "metadata": {},
   "source": [
    "QUESTION5 REPORT\n",
    "\n",
    "We define the height of a node in a tree to be the number of edges on the longest simple downward path from the node to a leaf, and we define the height of the tree to be the height of its root. Since a heap of n elements is based on a complete binary tree, its height is O(log n).\n",
    "The basic operations on heaps run in time at most proportional to the height of the tree and thus take O(lg n) time.\n",
    "The HEAPIFY procedure, which runs in O(log n) time, is the key to maintaining the heap property \n",
    "The BUILD-HEAP procedure, which runs in linear time, produces a heap from an unordered input array.\n",
    "The HEAPSORT procedure, which runs in O(n log n) time, sorts an array in place."
   ]
  },
  {
   "cell_type": "code",
   "execution_count": null,
   "id": "8807628d",
   "metadata": {},
   "outputs": [],
   "source": [
    "QUESTION6:-"
   ]
  },
  {
   "cell_type": "code",
   "execution_count": 3,
   "id": "22276316",
   "metadata": {},
   "outputs": [],
   "source": [
    "# Defining a function\n",
    "def counting_sort(D):\n",
    "    ld = len(D)\n",
    "    \n",
    "    # Adding a value at the start, inorder to start the list with an index 1\n",
    "    D = [0] + D\n",
    "\n",
    "    # Empty Sequence\n",
    "    B = [0]*(ld + 1)\n",
    "    \n",
    "    # Getting maximum value\n",
    "    k = max(D)\n",
    "    \n",
    "    # Empty sequence\n",
    "    C = [0]*(k + 1)\n",
    "    \n",
    "    # Updating the count of each value in the list\n",
    "    for j in range(1, ld + 1):\n",
    "        C[D[j]] = C[D[j]] + 1\n",
    "\n",
    "    # Calculating cummulative values\n",
    "    for i in range(1, k + 1):\n",
    "        C[i] = C[i] + C[i - 1]\n",
    "    \n",
    "    for j in range(ld, 0, -1):\n",
    "        B[C[D[j]]] = (D[j])\n",
    "        C[D[j]] = C[D[j]] - 1\n",
    "    \n",
    "    return(B[1:])\n",
    "    "
   ]
  },
  {
   "cell_type": "code",
   "execution_count": null,
   "id": "4412e6d8",
   "metadata": {},
   "outputs": [],
   "source": []
  },
  {
   "cell_type": "code",
   "execution_count": 4,
   "id": "89075a2a",
   "metadata": {},
   "outputs": [
    {
     "name": "stdin",
     "output_type": "stream",
     "text": [
      "Enter the input sequence:  10 15 2 3 4\n"
     ]
    },
    {
     "name": "stdout",
     "output_type": "stream",
     "text": [
      "Sorted List: [2, 3, 4, 10, 15]\n"
     ]
    }
   ],
   "source": [
    "d = list(map(int, input(\"Enter the input sequence: \").strip().split()))\n",
    "Sorted_seq = counting_sort(d)\n",
    "print('Sorted List:', Sorted_seq)"
   ]
  },
  {
   "cell_type": "markdown",
   "id": "1dce54c5",
   "metadata": {},
   "source": [
    "Question6 :Report\n",
    "\n",
    "    In the counting sort we have an empty list an unsorted list and a value K which is max of the unordered list. we first create an empty array of size k initialize it whith zeroes then add 1 to all the values . we calculate the cumulative count of adjacent element . we then place the value at jth index of A to C[A[jth]] index of B .counting sort has time complexity of O(n+k) and space complexity of O(n)"
   ]
  },
  {
   "cell_type": "code",
   "execution_count": null,
   "id": "69e8e853",
   "metadata": {},
   "outputs": [],
   "source": [
    "QUESTION7:--"
   ]
  },
  {
   "cell_type": "code",
   "execution_count": 5,
   "id": "d7a56296",
   "metadata": {},
   "outputs": [],
   "source": [
    "import math\n",
    "\n",
    "# Insertion Sort\n",
    "def insertion_sort(A):\n",
    "    for j in range(1, len(A)):\n",
    "        Key = A[j]\n",
    "        i = j - 1\n",
    "        while i > -1 and A[i] > Key:\n",
    "            A[i + 1] = A[i]\n",
    "            i = i - 1\n",
    "        A[i + 1] = Key\n",
    "    return(A)\n",
    "\n",
    "\n",
    "# Bucket Sort for integers\n",
    "def bucket_sort(D):\n",
    "    Input_length = len(D)\n",
    "\n",
    "    maximum_value = max(D)\n",
    "    max_base = maximum_value // Input_length\n",
    "\n",
    "    B = []\n",
    "    for i in range(0, max_base + 1):\n",
    "        B.append([])\n",
    "    \n",
    "    for i in range(0, Input_length):\n",
    "        base = D[i] // Input_length\n",
    "        print(D[i], base)\n",
    "        B[base].append(D[i])\n",
    "\n",
    "    for i in range(0, max_base + 1):\n",
    "        insertion_sort(B[i])\n",
    "\n",
    "    n = []\n",
    "    for i in range(0, max_base + 1):\n",
    "        for j in B[i]:\n",
    "            n.append(j)\n",
    "\n",
    "    return n\n",
    "\n",
    "# Bucket Sort for decimal\n",
    "def bucket_sort_decimal(D):\n",
    "    Input_length = len(D)\n",
    "\n",
    "    maximum_value = max(D)\n",
    "    max_base = math.floor(maximum_value * Input_length)\n",
    "\n",
    "    B = []\n",
    "    for i in range(0, max_base + 1):\n",
    "        B.append([])\n",
    "    \n",
    "    for i in range(0, Input_length):\n",
    "        base = math.floor(D[i] * Input_length)\n",
    "        print(D[i], base)\n",
    "        B[base].append(D[i])\n",
    "\n",
    "    for i in range(0, max_base + 1):\n",
    "        insertion_sort(B[i])\n",
    "\n",
    "    n = []\n",
    "    for i in range(0, max_base + 1):\n",
    "        for j in B[i]:\n",
    "            n.append(j)\n",
    "\n",
    "    return n"
   ]
  },
  {
   "cell_type": "code",
   "execution_count": 6,
   "id": "347d2471",
   "metadata": {},
   "outputs": [
    {
     "name": "stdin",
     "output_type": "stream",
     "text": [
      "Enter the input sequence:  15 7 21 10 35 72 64 55 23 8 11 17 1 0 32 71\n"
     ]
    },
    {
     "name": "stdout",
     "output_type": "stream",
     "text": [
      "15 0\n",
      "7 0\n",
      "21 1\n",
      "10 0\n",
      "35 2\n",
      "72 4\n",
      "64 4\n",
      "55 3\n",
      "23 1\n",
      "8 0\n",
      "11 0\n",
      "17 1\n",
      "1 0\n",
      "0 0\n",
      "32 2\n",
      "71 4\n",
      "Sorted List: [0, 1, 7, 8, 10, 11, 15, 17, 21, 23, 32, 35, 55, 64, 71, 72]\n"
     ]
    }
   ],
   "source": [
    "d = list(map(int, input(\"Enter the input sequence: \").strip().split()))\n",
    "Sorted_seq = bucket_sort(d)\n",
    "print('Sorted List:', Sorted_seq)"
   ]
  },
  {
   "cell_type": "code",
   "execution_count": 7,
   "id": "e67be6be",
   "metadata": {},
   "outputs": [
    {
     "name": "stdin",
     "output_type": "stream",
     "text": [
      "Enter the input sequence (decimal):  0.15 0.7 0.21 0.1 0.35 0.72 0.64 0.55 0.23 0.8 0.11 0.17 0.1 0 0.32 0.71\n"
     ]
    },
    {
     "name": "stdout",
     "output_type": "stream",
     "text": [
      "0.15 2\n",
      "0.7 11\n",
      "0.21 3\n",
      "0.1 1\n",
      "0.35 5\n",
      "0.72 11\n",
      "0.64 10\n",
      "0.55 8\n",
      "0.23 3\n",
      "0.8 12\n",
      "0.11 1\n",
      "0.17 2\n",
      "0.1 1\n",
      "0.0 0\n",
      "0.32 5\n",
      "0.71 11\n",
      "Sorted List: [0.0, 0.1, 0.1, 0.11, 0.15, 0.17, 0.21, 0.23, 0.32, 0.35, 0.55, 0.64, 0.7, 0.71, 0.72, 0.8]\n"
     ]
    }
   ],
   "source": [
    "d = list(map(float, input(\"Enter the input sequence (decimal): \").strip().split()))\n",
    "Sorted_seq = bucket_sort_decimal(d)\n",
    "print('Sorted List:', Sorted_seq)"
   ]
  },
  {
   "cell_type": "markdown",
   "id": "aaa8a9e3",
   "metadata": {},
   "source": [
    "Report for Question7:\n",
    "\n",
    "\n",
    "In case of bucket sort we first find the max_base value by dividing the max value by length of array in case of integer sorting or dividing by max value by length of an array . then we append an empty array at all the index starting from o to base max base + 1 after that we divide each element by the input length and find its respective index .we sort each bucket using insertion sort which is done in O(n) order . at the end we just append the elemnts starting from 0yh index and we get the sorted array. The overall time complexity of the bucket sort depends on the the size of each bucket if all the elemnts goes in single bucket then it will be o(n^2) which is time complexity of the insertion sort . The average case scenario the time complexity is O(n).The space complexity is O(n+k)"
   ]
  },
  {
   "cell_type": "code",
   "execution_count": null,
   "id": "640bbb56",
   "metadata": {},
   "outputs": [],
   "source": []
  }
 ],
 "metadata": {
  "kernelspec": {
   "display_name": "Python 3",
   "language": "python",
   "name": "python3"
  },
  "language_info": {
   "codemirror_mode": {
    "name": "ipython",
    "version": 3
   },
   "file_extension": ".py",
   "mimetype": "text/x-python",
   "name": "python",
   "nbconvert_exporter": "python",
   "pygments_lexer": "ipython3",
   "version": "3.7.7"
  }
 },
 "nbformat": 4,
 "nbformat_minor": 5
}
