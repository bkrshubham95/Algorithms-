{
 "cells": [
  {
   "cell_type": "markdown",
   "metadata": {},
   "source": [
    "# Applied Algo Assigment -6 \n",
    "\n",
    "This assignment has been done by shubham bipin kumar\n",
    "The work in this assignment is solely mine"
   ]
  },
  {
   "cell_type": "markdown",
   "metadata": {},
   "source": [
    "# Question1"
   ]
  },
  {
   "cell_type": "code",
   "execution_count": null,
   "metadata": {},
   "outputs": [],
   "source": [
    "import pandas as pd\n",
    "from scipy.stats import multivariate_normal\n",
    "import numpy as np\n",
    "import random\n",
    "from scipy.spatial import distance"
   ]
  },
  {
   "cell_type": "markdown",
   "metadata": {},
   "source": [
    "## Problem 1: Expectation-Maximization Algorithm for Clustering"
   ]
  },
  {
   "cell_type": "code",
   "execution_count": null,
   "metadata": {},
   "outputs": [],
   "source": [
    "# Posterior probablity\n",
    "def weights(mu, cov_mat, P, x, n_centre):\n",
    "    U_mat = np.ones((x.shape[0],n_centre))\n",
    "    for i in range(n_centre):\n",
    "        U_mat[:,i] = multivariate_normal.pdf(x,mu[i],cov_mat[:,:,i], allow_singular=True)\n",
    "    U_mat = U_mat*P/(U_mat @ P.T)\n",
    "    return U_mat\n",
    "\n",
    "# Maximization\n",
    "def Maximization (W, cov_mat, X, n_centre):\n",
    "    # mean\n",
    "    mu1 = W.T @ X/np.sum(W,axis=0).reshape(-1,1)\n",
    "    # covriance\n",
    "    for i in range(n_centre):\n",
    "        cov_mat[:,:,i] = (X - mu1[i]).T @ ((X - mu1[i]) * W[:,i].reshape(-1,1))/np.sum(W[:,i])\n",
    "    # P step\n",
    "    P_new = np.sum(W, axis = 0)/W.shape[0]\n",
    "    P_new = P_new.reshape(1,-1)\n",
    "    return mu1, P_new\n",
    "\n",
    "# Initialization\n",
    "def initalization(n_centre, data):\n",
    "    # mean initialization\n",
    "    mu = np.ones((n_centre, data.shape[1]))\n",
    "    for i in range(n_centre):\n",
    "        rand_val = random.randrange(0, data.shape[0])\n",
    "        mu[i] = data[rand_val]\n",
    "\n",
    "    # covariance initialization\n",
    "    cov = np.identity(data.shape[1])\n",
    "    cov_mat = np.dstack([cov]*n_centre)\n",
    "\n",
    "    ## prob initializing\n",
    "    P = np.ones((1,n_centre))*1/n_centre\n",
    "    return mu, cov_mat, P\n",
    "\n",
    "\n",
    "# EM algrithm\n",
    "def EM_algo(data, n_centre):\n",
    "    mu12 = []\n",
    "    diff = 0\n",
    "    diff_list = []\n",
    "    mu, cov_mat, P = initalization(n_centre, data)\n",
    "    iteration = 0\n",
    "    while True:\n",
    "        mu1 = np.copy(mu)\n",
    "        W = weights(mu, cov_mat, P, data, n_centre )\n",
    "        mu, P = Maximization(W, cov_mat,data, n_centre )\n",
    "        for j in range(n_centre):\n",
    "            diff += np.sum(distance1(mu1[j], mu[j]))  \n",
    "        iteration += 1\n",
    "        diff_list.append(diff)\n",
    "        if diff < 1e-3:\n",
    "            break\n",
    "        else:\n",
    "            diff = 0\n",
    "\n",
    "    return iteration, mu, W, diff_list\n",
    "\n",
    "# Distance function\n",
    "def distance1(x,y):\n",
    "    a = (x-y)**2\n",
    "    return a\n",
    "\n"
   ]
  },
  {
   "cell_type": "markdown",
   "metadata": {},
   "source": [
    "#### 1. Initializing each Gaussian:\n",
    "Mean :  For initlializing the mean I am randomly selecting k data points for the k clusters from the data sets. The size of my mean matrix is k * D(dimesnsions)\n",
    "\n",
    "Coviance : I am initializing it with D* D identity matrix for each cluster and I am stacking them to convert it into D * D * k matrix\n",
    "\n",
    "Prior: Initialized by 1/k. For eg if k = 3 then each cluster would have 0.33 prior\n",
    "\n",
    "#### 2. Deciding Ties:\n",
    "The ties would happpen when we are assigning the data point to the actual cluster but the euclidien distance between the two cluster is the same. We could assign it based on which cluster has a higher probablity of the data points\n",
    "\n",
    "#### 3.  Stopping criteria:\n",
    "Once we initialize our mean, we keep on updating it based on posterior probablity. If the sum of squared difference between previous mean and the present iteration mean is smaller than episilon value which 0.001 then the algorithm stops"
   ]
  },
  {
   "cell_type": "markdown",
   "metadata": {},
   "source": [
    "# Question 2"
   ]
  },
  {
   "cell_type": "markdown",
   "metadata": {},
   "source": [
    "In the previous question, I wrote a function for weights (posterior probablity), maximization, initialization, EM_algo. Based on that, first I am hard assigning the data points to the respective cluster.\n",
    "\n",
    "Once the assignment is done, I calculated the distance b/w the actual centroid and centroid coming from the EM. The one which have minimum distance that EM cluster is assigned to the actual cluster.\n",
    "\n",
    "We run the EM algorithm for 20 iteration, for multiple value of K = (2,3,4,5) and plot the boxplot"
   ]
  },
  {
   "cell_type": "markdown",
   "metadata": {},
   "source": [
    "### Ionosphere data"
   ]
  },
  {
   "cell_type": "code",
   "execution_count": 612,
   "metadata": {},
   "outputs": [],
   "source": [
    "ionosphere =  pd.read_csv('ionosphere.data',header=None)"
   ]
  },
  {
   "cell_type": "code",
   "execution_count": 614,
   "metadata": {},
   "outputs": [],
   "source": [
    "# actual cluster mean\n",
    "grouped = ionosphere.groupby(34)\n",
    "cluster_mean = grouped.mean().to_numpy()\n",
    "\n",
    "#label\n",
    "label = ionosphere[34]\n",
    "ionosphere.drop([34], inplace= True, axis = 1)\n",
    "ionosphere = ionosphere.to_numpy()"
   ]
  },
  {
   "cell_type": "markdown",
   "metadata": {},
   "source": [
    "#### Error calculation"
   ]
  },
  {
   "cell_type": "code",
   "execution_count": 569,
   "metadata": {},
   "outputs": [],
   "source": [
    "def error_rate(cluster_mean,mu,W,label):\n",
    "    allocate={'b':[],'g':[]}\n",
    "    predict_allocate = []\n",
    "    count = 0\n",
    "\n",
    "    # classifying the cluster\n",
    "    predict= np.argmax(W, axis = 1)\n",
    "\n",
    "    # allocating the cluster to original label\n",
    "    for i in range(len(mu)):\n",
    "        if np.sum(distance1(cluster_mean[0],mu[i])) < np.sum(distance1(cluster_mean[1],mu[i])):\n",
    "            allocate['b'].append(i)\n",
    "        else:\n",
    "            allocate['g'].append(i)\n",
    "    \n",
    "    for i in predict:\n",
    "        if i in allocate['b']:\n",
    "            predict_allocate.append('b')\n",
    "        else:\n",
    "            predict_allocate.append('g')\n",
    "            \n",
    "    \n",
    "    # checking the count of mislabelled \n",
    "    for i in range(len(label)):\n",
    "        if label[i] != predict_allocate[i]:\n",
    "            count+=1\n",
    "  \n",
    "    return count/len(label)\n",
    "            \n"
   ]
  },
  {
   "cell_type": "markdown",
   "metadata": {},
   "source": [
    "#### Running the EM algorithm"
   ]
  },
  {
   "cell_type": "code",
   "execution_count": 621,
   "metadata": {
    "scrolled": true
   },
   "outputs": [
    {
     "name": "stdout",
     "output_type": "stream",
     "text": [
      "n_centre 2\n",
      "iter 0\n",
      "iter 1\n",
      "iter 2\n",
      "iter 3\n",
      "iter 4\n",
      "iter 5\n",
      "iter 6\n",
      "iter 7\n",
      "iter 8\n",
      "iter 9\n",
      "iter 10\n",
      "iter 11\n",
      "iter 12\n",
      "iter 13\n",
      "iter 14\n",
      "iter 15\n",
      "iter 16\n",
      "iter 17\n",
      "iter 18\n",
      "iter 19\n",
      "n_centre 3\n",
      "iter 0\n",
      "iter 1\n",
      "iter 2\n",
      "iter 3\n",
      "iter 4\n",
      "iter 5\n",
      "iter 6\n",
      "iter 7\n",
      "iter 8\n",
      "iter 9\n",
      "iter 10\n",
      "iter 11\n",
      "iter 12\n",
      "iter 13\n",
      "iter 14\n",
      "iter 15\n",
      "iter 16\n",
      "iter 17\n",
      "iter 18\n",
      "iter 19\n",
      "n_centre 4\n",
      "iter 0\n",
      "iter 1\n",
      "iter 2\n",
      "iter 3\n",
      "iter 4\n",
      "iter 5\n",
      "iter 6\n",
      "iter 7\n",
      "iter 8\n",
      "iter 9\n",
      "iter 10\n",
      "iter 11\n",
      "iter 12\n",
      "iter 13\n",
      "iter 14\n",
      "iter 15\n",
      "iter 16\n",
      "iter 17\n",
      "iter 18\n",
      "iter 19\n",
      "n_centre 5\n",
      "iter 0\n",
      "iter 1\n",
      "iter 2\n",
      "iter 3\n",
      "iter 4\n",
      "iter 5\n",
      "iter 6\n",
      "iter 7\n",
      "iter 8\n",
      "iter 9\n",
      "iter 10\n",
      "iter 11\n",
      "iter 12\n",
      "iter 13\n",
      "iter 14\n",
      "iter 15\n",
      "iter 16\n",
      "iter 17\n",
      "iter 18\n",
      "iter 19\n"
     ]
    }
   ],
   "source": [
    "error_list = []\n",
    "iteration_list = []\n",
    "\n",
    "final_error = []\n",
    "final_iteration_list = []\n",
    "\n",
    "\n",
    "for n_centre in range(2,6):\n",
    "    print(\"n_centre\",n_centre)\n",
    "    error_list = []\n",
    "    iteration_list = []\n",
    "    for i in range(20):\n",
    "        print(\"iter\",i)\n",
    "        iteration, mu, W, diff_list = EM_algo(ionosphere, n_centre)\n",
    "        iteration_list.append(iteration)\n",
    "\n",
    "        error = error_rate(cluster_mean,mu,W,label)\n",
    "        error_list.append(error)\n",
    "        \n",
    "    final_error.append(error_list)\n",
    "    final_iteration_list.append(iteration_list)\n"
   ]
  },
  {
   "cell_type": "markdown",
   "metadata": {},
   "source": [
    "#### Whisker plot"
   ]
  },
  {
   "cell_type": "code",
   "execution_count": 626,
   "metadata": {
    "scrolled": true
   },
   "outputs": [
    {
     "data": {
      "image/png": "[encoded data removed]",
      "text/plain": [
       "<Figure size 432x288 with 1 Axes>"
      ]
     },
     "metadata": {
      "needs_background": "light"
     },
     "output_type": "display_data"
    }
   ],
   "source": [
    "import matplotlib.pyplot as plt\n",
    "df = pd.DataFrame(final_iteration_list, index=[i for i in range(2,6)])\n",
    "df.T.boxplot(vert=False)\n",
    "plt.subplots_adjust(left=0.2)\n",
    "plt.title('Iteration vs Cluster Size for Ionosphere')\n",
    "plt.xlabel(\"Iteration Count\")\n",
    "plt.ylabel(\"Number of  clusters(k)\")\n",
    "plt.show() "
   ]
  },
  {
   "cell_type": "code",
   "execution_count": 627,
   "metadata": {},
   "outputs": [
    {
     "data": {
      "image/png": "[encoded data removed]",
      "text/plain": [
       "<Figure size 432x288 with 1 Axes>"
      ]
     },
     "metadata": {
      "needs_background": "light"
     },
     "output_type": "display_data"
    }
   ],
   "source": [
    "df = pd.DataFrame(final_error, index=[i for i in range(2,6)])\n",
    "df.T.boxplot(vert=False)\n",
    "plt.subplots_adjust(left=0.2)\n",
    "plt.title('Error vs Cluster size for Ionosphere')\n",
    "plt.xlabel(\"Error\")\n",
    "plt.ylabel(\"Number of  clusters(k)\")\n",
    "plt.show() "
   ]
  },
  {
   "cell_type": "markdown",
   "metadata": {},
   "source": [
    "### Ringnorm data"
   ]
  },
  {
   "cell_type": "code",
   "execution_count": 600,
   "metadata": {},
   "outputs": [],
   "source": [
    "ringnorm =  pd.read_csv('Dataset.data',sep = \"\\s+\",header=None)"
   ]
  },
  {
   "cell_type": "code",
   "execution_count": 601,
   "metadata": {},
   "outputs": [],
   "source": [
    "# actual cluster mean\n",
    "grouped = ringnorm.groupby(20)\n",
    "cluster_mean = grouped.mean().to_numpy()\n",
    "\n",
    "# label\n",
    "label1 = ringnorm[20]\n",
    "ringnorm.drop([20], inplace= True, axis = 1)\n",
    "ringnorm = ringnorm.to_numpy()\n",
    "\n",
    "label = []\n",
    "for i in label1:\n",
    "    if i == 0:\n",
    "        label.append('b')\n",
    "    else:\n",
    "        label.append('g')"
   ]
  },
  {
   "cell_type": "markdown",
   "metadata": {},
   "source": [
    "#### Running the EM algorithm       "
   ]
  },
  {
   "cell_type": "code",
   "execution_count": 605,
   "metadata": {
    "scrolled": true
   },
   "outputs": [
    {
     "name": "stdout",
     "output_type": "stream",
     "text": [
      "n_centre 2\n",
      "iter 0\n",
      "iter 1\n",
      "iter 2\n",
      "iter 3\n",
      "iter 4\n",
      "iter 5\n",
      "iter 6\n",
      "iter 7\n",
      "iter 8\n",
      "iter 9\n",
      "iter 10\n",
      "iter 11\n",
      "iter 12\n",
      "iter 13\n",
      "iter 14\n",
      "iter 15\n",
      "iter 16\n",
      "iter 17\n",
      "iter 18\n",
      "iter 19\n",
      "n_centre 3\n",
      "iter 0\n",
      "iter 1\n",
      "iter 2\n",
      "iter 3\n",
      "iter 4\n",
      "iter 5\n",
      "iter 6\n",
      "iter 7\n",
      "iter 8\n",
      "iter 9\n",
      "iter 10\n",
      "iter 11\n",
      "iter 12\n",
      "iter 13\n",
      "iter 14\n",
      "iter 15\n",
      "iter 16\n",
      "iter 17\n",
      "iter 18\n",
      "iter 19\n",
      "n_centre 4\n",
      "iter 0\n",
      "iter 1\n",
      "iter 2\n",
      "iter 3\n",
      "iter 4\n",
      "iter 5\n",
      "iter 6\n",
      "iter 7\n",
      "iter 8\n",
      "iter 9\n",
      "iter 10\n",
      "iter 11\n",
      "iter 12\n",
      "iter 13\n",
      "iter 14\n",
      "iter 15\n",
      "iter 16\n",
      "iter 17\n",
      "iter 18\n",
      "iter 19\n",
      "n_centre 5\n",
      "iter 0\n",
      "iter 1\n",
      "iter 2\n",
      "iter 3\n",
      "iter 4\n",
      "iter 5\n",
      "iter 6\n",
      "iter 7\n",
      "iter 8\n",
      "iter 9\n",
      "iter 10\n",
      "iter 11\n",
      "iter 12\n",
      "iter 13\n",
      "iter 14\n",
      "iter 15\n",
      "iter 16\n",
      "iter 17\n",
      "iter 18\n",
      "iter 19\n"
     ]
    }
   ],
   "source": [
    "error_list = []\n",
    "iteration_list = []\n",
    "\n",
    "final_error = []\n",
    "final_iteration_list = []\n",
    "\n",
    "\n",
    "for n_centre in range(2,6):\n",
    "    print(\"n_centre\",n_centre)\n",
    "    error_list = []\n",
    "    iteration_list = []\n",
    "    for i in range(20):\n",
    "        print(\"iter\",i)\n",
    "        iteration, mu, W, diff_list = EM_algo(ringnorm, n_centre)\n",
    "        iteration_list.append(iteration)\n",
    "\n",
    "        error = error_rate(cluster_mean,mu,W,label)\n",
    "        error_list.append(error)\n",
    "        \n",
    "    final_error.append(error_list)\n",
    "    final_iteration_list.append(iteration_list)\n"
   ]
  },
  {
   "cell_type": "code",
   "execution_count": 606,
   "metadata": {},
   "outputs": [
    {
     "data": {
      "image/png": "[encoded data removed]",
      "text/plain": [
       "<Figure size 432x288 with 1 Axes>"
      ]
     },
     "metadata": {
      "needs_background": "light"
     },
     "output_type": "display_data"
    }
   ],
   "source": [
    "import matplotlib.pyplot as plt\n",
    "df = pd.DataFrame(final_iteration_list, index=[i for i in range(2,6)])\n",
    "df.T.boxplot(vert=False)\n",
    "plt.subplots_adjust(left=0.2)\n",
    "plt.title('Whisker plot for Iteration Count')\n",
    "plt.xlabel(\"Iteration count\")\n",
    "plt.ylabel(\"Number of  clusters(k)\")\n",
    "plt.show() "
   ]
  },
  {
   "cell_type": "code",
   "execution_count": 607,
   "metadata": {},
   "outputs": [
    {
     "data": {
      "image/png": "[encoded data removed]",
      "text/plain": [
       "<Figure size 432x288 with 1 Axes>"
      ]
     },
     "metadata": {
      "needs_background": "light"
     },
     "output_type": "display_data"
    }
   ],
   "source": [
    "df = pd.DataFrame(final_error, index=[i for i in range(2,6)])\n",
    "df.T.boxplot(vert=False)\n",
    "plt.subplots_adjust(left=0.2)\n",
    "plt.title('Whisker plot for Error')\n",
    "plt.xlabel(\"Iteration count\")\n",
    "plt.ylabel(\"Number of  clusters(k)\")\n",
    "plt.show() "
   ]
  },
  {
   "cell_type": "markdown",
   "metadata": {},
   "source": [
    "# Problem 3: Algorithm Design"
   ]
  },
  {
   "cell_type": "markdown",
   "metadata": {},
   "source": [
    "Problem 3.1\n",
    "Given a text D and a pattern P, describe an Ω(d+p) time method for finding the longest prefix of P that is a substring of D. The lengths of D and P are d and p, respectively."
   ]
  },
  {
   "cell_type": "code",
   "execution_count": 2,
   "metadata": {},
   "outputs": [
    {
     "name": "stdout",
     "output_type": "stream",
     "text": [
      "longest prefix that matched with text : abcd\n"
     ]
    }
   ],
   "source": [
    "# KMP failure function\n",
    "def compute_fail(P):\n",
    "    m = len(P)\n",
    "    fail = [0] * m\n",
    "    j = 1\n",
    "    k = 0\n",
    "    while j < m:\n",
    "        if P[j] == P[k]:\n",
    "            fail[j] = k + 1\n",
    "            j += 1\n",
    "            k += 1\n",
    "        elif k > 0:\n",
    "            k = fail[k - 1]\n",
    "        else:\n",
    "            j += 1\n",
    "    return fail\n",
    "\n",
    "\n",
    "#KMP\n",
    "\n",
    "def longest_prefix(T, P):\n",
    "    n, m = len(T), len(P)\n",
    "    if m == 0:\n",
    "        return 0\n",
    "    fail = compute_fail(P)\n",
    "    max_len = 0\n",
    "    value = \"\"\n",
    "    new_val = {\"max_len_prefix\": \"a\"}\n",
    "    #print (fail)\n",
    "    j = 0\n",
    "    k = 0\n",
    "    while j < n:\n",
    "        if T[j] == P[k]:\n",
    "            if k == m-1:\n",
    "                to_return = new_val[\"max_len_prefix\"]\n",
    "                #print(to_return)\n",
    "                return new_val[\"max_len_prefix\"]\n",
    "            if max_len < k < len(P):\n",
    "                max_len = k\n",
    "                #print(P[0:k+1])\n",
    "                new_val[\"max_len_prefix\"] = P[0:k+1]\n",
    "                to_return = new_val[\"max_len_prefix\"]\n",
    "                #print(to_return)\n",
    "            j += 1\n",
    "            k += 1\n",
    "        elif k > 0:\n",
    "            k = fail[k - 1]\n",
    "        else:\n",
    "            j += 1\n",
    "\n",
    "    return new_val[\"max_len_prefix\"]\n",
    "\n",
    "\n",
    "if __name__ == \"__main__\":\n",
    "    D = \"AcdcdcabcdfcdcdcAAAAAcdcAAB\"\n",
    "    P = \"abcdef\"\n",
    "    #P = \"xyzbv\"\n",
    "    val = longest_prefix(D,P)\n",
    "    if (val == \"a\"):\n",
    "        print(\"no prefix matched with text\")\n",
    "    else:\n",
    "        print(\"longest prefix that matched with text :\", val)"
   ]
  },
  {
   "cell_type": "markdown",
   "metadata": {},
   "source": [
    "REPORT:- I have used modified KMP algorithm to find the longest prefix that is also a substring of the text. First we calculate all the prefix of the pattern and prepare a fail table .This takes Ω(p) . This table is used to find where to start in case of failure. we iterate through the text and find the matches and i'm storing the largest match that i'm getting everytime and finally returing the largest value of the prefix that is matching this take Ω(d) . so overall time complexity is Ω(d+p). "
   ]
  },
  {
   "cell_type": "markdown",
   "metadata": {},
   "source": [
    "# Problem 3.2\n",
    "Given t an arbitrary integer we want to find,\n",
    "\n",
    "x in X, y in Y, z in Z where X,Y,Z are of lists of length m,\n",
    "\n",
    "such that t = x + y + z\n",
    "\n",
    "in O(m2logm) time."
   ]
  },
  {
   "cell_type": "code",
   "execution_count": 3,
   "metadata": {},
   "outputs": [
    {
     "name": "stdout",
     "output_type": "stream",
     "text": [
      "elements found in arr1: 5 , arr2: 15, in arr3: 45 to sum up 65\n"
     ]
    }
   ],
   "source": [
    "def binarySearch(arr, l, r, x):\n",
    "    while l <= r:\n",
    "\n",
    "        mid = l + (r - l) // 2\n",
    "\n",
    "        if arr[mid] == x:\n",
    "            return mid\n",
    "\n",
    "        elif arr[mid] < x:\n",
    "            l = mid + 1\n",
    "\n",
    "        else:\n",
    "            r = mid - 1\n",
    "\n",
    "    return -1\n",
    "\n",
    "\n",
    "\n",
    "def sum_of_no(arr1, arr2, arr3, sum):\n",
    "    arr1.sort()\n",
    "    #print(arr1)\n",
    "    l1 = len(arr1)\n",
    "    l2 = len(arr2)\n",
    "    l3 = len(arr3)\n",
    "    for i in range(l2):\n",
    "        for j in range(l3):\n",
    "            temp_sum = arr2[i] + arr3[j]\n",
    "            index = binarySearch(arr1, 0, l1 -1 , (sum - temp_sum))\n",
    "            #print(index)\n",
    "            if index >= 0:\n",
    "                return [arr1[index], arr2[i], arr3[j]]\n",
    "            else:\n",
    "                continue\n",
    "\n",
    "    return -1\n",
    "\n",
    "\n",
    "\n",
    "\n",
    "if __name__ == \"__main__\":\n",
    "    arr1 = [3,4,5,6,2]\n",
    "    arr2 = [11,15,16,18]\n",
    "    arr3 = [3,13,17,45]\n",
    "    #arr1.sort()\n",
    "    #print(binarySearch(arr1, 0, len(arr1) - 1, 2))\n",
    "    sum =65\n",
    "    result = sum_of_no(arr1, arr2, arr3, sum)\n",
    "    #print(result)\n",
    "    if (len(result)) > 1:\n",
    "        print(\"elements found in arr1: {} , arr2: {}, in arr3: {} to sum up {}\".format(result[0],result[1],result[2],sum))\n",
    "    else:\n",
    "        print(\"elements not found\")"
   ]
  },
  {
   "cell_type": "markdown",
   "metadata": {},
   "source": [
    "REPORT- 2\n",
    "we have three arrays . First we have sorted one array which takes O(m*logm) time . Now we are looping through both the arays and taking auxilary sum of values at corresponding indices and then finding the difference of sum and auxilary value in third array. looping through both the array takes O(m^2) time and binary search takes logm making the overall time complexity as O(m^2*logm)"
   ]
  },
  {
   "cell_type": "markdown",
   "metadata": {},
   "source": [
    "# Problem 3.3 - Deleting a string from a compressed trie\n",
    "\n",
    "Deleting a word from a compressed trie is relatively easy when compared to a regular trie. \n",
    "\n",
    "Beacause we have to conduct delete operation on at most one node"
   ]
  },
  {
   "cell_type": "code",
   "execution_count": 4,
   "metadata": {},
   "outputs": [
    {
     "name": "stdout",
     "output_type": "stream",
     "text": [
      "Trie before deletion -\n",
      "- b\n",
      "** etty\n",
      "** itter\n",
      "** utter\n",
      "* has\n",
      "* some\n",
      "* the\n",
      "* was\n",
      "number of nodes in the trie 9\n",
      "True\n",
      "\n",
      "\n",
      "\n",
      "removing the word butter......\n",
      "successfully deleted butter\n",
      "Trie after deletion - \n",
      "- b\n",
      "** etty\n",
      "** itter\n",
      "* has\n",
      "* some\n",
      "* the\n",
      "* was\n",
      "total number of nodes 8\n",
      "False\n"
     ]
    }
   ],
   "source": [
    "# citation - The code for Building trie from a list of words, is taken from\n",
    "# https://github.com/bzamecnik/python-hash-trie/blob/master/hash_trie/hash_trie.py\n",
    "#Algorithm to remove a word from the compressed trie is original and written by me\n",
    "\n",
    "class Trie(object):\n",
    "    def __init__(self, words, compressed=False):\n",
    "        def uncompressed_from_list(words):\n",
    "            'Creates a basic uncompressed trie from a sorted list of words.'\n",
    "            root = ({}, False)\n",
    "            for word in words:\n",
    "                node, is_terminal = root\n",
    "                size = len(word)\n",
    "                for i, char in enumerate(word):\n",
    "                    is_terminal = i == size - 1\n",
    "                    if char not in node:\n",
    "                        node[char] = ({}, is_terminal)\n",
    "                    node, is_terminal = node[char]\n",
    "            return root\n",
    "\n",
    "        def compress_subtrie(root, prefix=''):\n",
    "            children, is_terminal = root\n",
    "            child_count = len(children)\n",
    "            if child_count == 0:\n",
    "                # not interesting, the base case\n",
    "                return root, prefix\n",
    "            elif child_count == 1:\n",
    "                for key, child in children.items():\n",
    "                    # just on iteration to obtain the single key-value pair\n",
    "                    next_prefix = key if is_terminal else prefix + key\n",
    "                    comp_child, comp_key = compress_subtrie(child, next_prefix)\n",
    "                    comp_children = {comp_key: comp_child} \\\n",
    "                        if prefix == '' or is_terminal else comp_child[0]\n",
    "                    return (comp_children, comp_child[1] or is_terminal), \\\n",
    "                           prefix if is_terminal else comp_key\n",
    "            else:  # child_count > 1\n",
    "                # not interesting, just compress each child\n",
    "                comp_children = {}\n",
    "                for key, child in children.items():\n",
    "                    comp_child, comp_key = compress_subtrie(child, key)\n",
    "                    comp_children[comp_key] = comp_child\n",
    "                return (comp_children, is_terminal), prefix\n",
    "\n",
    "        root = uncompressed_from_list(words)\n",
    "        if compressed:\n",
    "            root = compress_subtrie(root)[0]\n",
    "\n",
    "        self.root = root\n",
    "        self.is_compressed = compressed\n",
    "\n",
    "    def __contains__(self, word):\n",
    "        'Tests whether a given words is contained in the trie.'\n",
    "\n",
    "        def in_trie(word, trie):\n",
    "            children, is_terminal = trie\n",
    "            word_length = len(word)\n",
    "            if word_length == 0:\n",
    "                return is_terminal\n",
    "            for i in range(word_length if self.is_compressed else 1):\n",
    "                key = word[:i + 1]\n",
    "                child = children.get(key)\n",
    "                if child is not None:\n",
    "                    return in_trie(word[i + 1:], child)\n",
    "            return False\n",
    "\n",
    "        return in_trie(word, self.root)\n",
    "\n",
    "    # -----Method to remove a word from the compressed Trie----------\n",
    "    def remove_key(self, key):\n",
    "        def remove(key, trie):\n",
    "            children, is_terminal = trie\n",
    "            word_len = len(key)\n",
    "            if word_len == 0:\n",
    "                return is_terminal\n",
    "            for i in range(word_len if self.is_compressed else 1):\n",
    "                keyword = key[:i + 1]\n",
    "                child = children.get(keyword)\n",
    "                if child is not None:\n",
    "                    if len(child[0]) == 0:\n",
    "                        del children[keyword]\n",
    "                        return True\n",
    "                    return remove(key[i + 1:], child)\n",
    "            return False\n",
    "\n",
    "        success = remove(key, self.root)\n",
    "        if success:\n",
    "            print('successfully deleted', key)\n",
    "        else:\n",
    "            print('key not found', key)\n",
    "\n",
    "    def print_trie(self):\n",
    "        def print_subtree(root, level):\n",
    "            children, _ = root\n",
    "            for key in sorted(children.keys()):\n",
    "                child = children[key]\n",
    "                _, is_terminal = child\n",
    "                print(level * ('*' if is_terminal else '-'), key)\n",
    "                print_subtree(child, level + 1)\n",
    "\n",
    "        print_subtree(self.root, 1)\n",
    "\n",
    "    def count_nodes(self, only_terminal=False):\n",
    "        def _count_nodes(trie, only_terminal):\n",
    "            children, is_terminal = trie\n",
    "            if only_terminal:\n",
    "                count = 1 if is_terminal else 0\n",
    "            else:\n",
    "                count = 1\n",
    "            for _, child in children.items():\n",
    "                count = count + _count_nodes(child, only_terminal)\n",
    "            return count\n",
    "\n",
    "        return _count_nodes(self.root, only_terminal)\n",
    "\n",
    "\n",
    "def load_words(filename):\n",
    "    with open(filename, 'r') as file:\n",
    "        words = [word.strip() for word in file.readlines()]\n",
    "    return words\n",
    "\n",
    "\n",
    "if __name__ == '__main__':\n",
    "    words = ['betty', 'has', 'some', 'butter', 'the', 'was', 'bitter']\n",
    "    trie = Trie(words, True)\n",
    "    print('Trie before deletion -')\n",
    "    trie.print_trie()\n",
    "    print('number of nodes in the trie', trie.count_nodes())\n",
    "    print(trie.__contains__('butter'))\n",
    "    print(\"\")\n",
    "    print(\"\")\n",
    "    print(\"\")\n",
    "    print('removing the word butter......')\n",
    "    trie.remove_key('butter')\n",
    "    print('Trie after deletion - ')\n",
    "    trie.print_trie()\n",
    "    print('total number of nodes', trie.count_nodes())\n",
    "    print(trie.__contains__('butter'))\n",
    "\n"
   ]
  },
  {
   "cell_type": "markdown",
   "metadata": {},
   "source": [
    "REPORT-3 \n",
    "we are Traversing the trie searching for the given string.If string is found, we check if the node has any children\n",
    "We can delete the node if it is a terminal node i.e no children.The time complexity of creating as trie is (n*l) where n is number of words and l is average length of the word . the delete operation takes O(k) time where k is the length of the key to be deleted .The memory requirements of Trie is O(uniques alphbet * length_of_string* N) where N is number of keys in Trie"
   ]
  },
  {
   "cell_type": "markdown",
   "metadata": {},
   "source": [
    "COMBINED REPORT:\n",
    "#### 1. Initializing each Gaussian:\n",
    "Mean :  For initlializing the mean I am randomly selecting k data points for the k clusters from the data sets. The size of my mean matrix is k * D(dimesnsions)\n",
    "\n",
    "Coviance : I am initializing it with D* D identity matrix for each cluster and I am stacking them to convert it into D * D * k matrix\n",
    "\n",
    "Prior: Initialized by 1/k. For eg if k = 3 then each cluster would have 0.33 prior\n",
    "\n",
    "#### 2. Deciding Ties:\n",
    "The ties would happpen when we are assigning the data point to the actual cluster but the euclidien distance between the two cluster is the same. We could assign it based on which cluster has a higher probablity of the data points\n",
    "\n",
    "#### 3.  Stopping criteria:\n",
    "Once we initialize our mean, we keep on updating it based on posterior probablity. If the sum of squared difference between previous mean and the present iteration mean is smaller than episilon value which 0.001 then the algorithm stops\n",
    "\n",
    "In the previous question, I wrote a function for weights (posterior probablity), maximization, initialization, EM_algo. Based on that, first I am hard assigning the data points to the respective cluster.\n",
    "\n",
    "Once the assignment is done, I calculated the distance b/w the actual centroid and centroid coming from the EM. The one which have minimum distance that EM cluster is assigned to the actual cluster.\n",
    "\n",
    "We run the EM algorithm for 20 iteration, for multiple value of K = (2,3,4,5) and plot the boxplot\n",
    "\n",
    "\n",
    "\n",
    "\n",
    "I have used modified KMP algorithm to find the longest prefix that is also a substring of the text. First we calculate all the prefix of the pattern and prepare a fail table .This takes Ω(p) . This table is used to find where to start in case of failure. we iterate through the text and find the matches and i'm storing the largest match that i'm getting everytime and finally returing the largest value of the prefix that is matching this take Ω(d) . so overall time complexity is Ω(d+p). \n",
    "\n",
    "we have three arrays . First we have sorted one array which takes O(m*logm) time . Now we are looping through both the arays and taking auxilary sum of values at corresponding indices and then finding the difference of sum and auxilary value in third array. looping through both the array takes O(m^2) time and binary search takes logm making the overall time complexity as O(m^2*logm)\n",
    "\n",
    "we are Traversing the trie searching for the given string.If string is found, we check if the node has any children\n",
    "We can delete the node if it is a terminal node i.e no children.The time complexity of creating as trie is (n*l) where n is number of words and l is average length of the word . the delete operation takes O(k) time where k is the length of the key to be deleted .The memory requirements of Trie is O(uniques alphbet * length_of_string* N) where N is number of keys in Trie\n",
    "    "
   ]
  },
  {
   "cell_type": "code",
   "execution_count": null,
   "metadata": {},
   "outputs": [],
   "source": []
  }
 ],
 "metadata": {
  "kernelspec": {
   "display_name": "Python 3 (ipykernel)",
   "language": "python",
   "name": "python3"
  },
  "language_info": {
   "codemirror_mode": {
    "name": "ipython",
    "version": 3
   },
   "file_extension": ".py",
   "mimetype": "text/x-python",
   "name": "python",
   "nbconvert_exporter": "python",
   "pygments_lexer": "ipython3",
   "version": "3.9.7"
  }
 },
 "nbformat": 4,
 "nbformat_minor": 4
}
