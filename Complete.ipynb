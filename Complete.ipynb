{
 "cells": [
  {
   "cell_type": "markdown",
   "id": "c5354409",
   "metadata": {},
   "source": [
    "# CSCI-B 505 Applied Algorithms Final Exam"
   ]
  },
  {
   "cell_type": "markdown",
   "id": "bb62a7a2",
   "metadata": {},
   "source": [
    "Name - Shubham Bipin Kumar\n",
    "\n",
    "userid - sbipink\n",
    "\n",
    "email - sbipink@iu.edu"
   ]
  },
  {
   "cell_type": "markdown",
   "id": "ef7df6f0",
   "metadata": {},
   "source": [
    "# Multi Choice"
   ]
  },
  {
   "cell_type": "markdown",
   "id": "dd6fad02",
   "metadata": {},
   "source": [
    "# Problem 1.1\n",
    "\n",
    "Consider an undirected graph G = (V, E) with edge costs that are all positive and distinct. Let T beaminimumspanningtreeforgraphG. LetP beashortestpathfromstot,wheres,t∈V. Which of the following statements is correct?\n",
    "\n",
    "(A) Suppose each edge weight is increased by 1, the minimum spanning tree T will not change\n",
    "\n",
    "(B) Suppose each edge weight is increased by 1, the shortest path P between node s and t\n",
    "will not change\n",
    "\n",
    "(C) The edge with heaviest edge cost cannot be in minimum spanning tree T\n",
    "\n",
    "(D) The edges included in shortest path P will also be in minimum spanning tree T"
   ]
  },
  {
   "cell_type": "markdown",
   "id": "b61ee53b",
   "metadata": {},
   "source": [
    "# Answer:\n",
    "(A) Suppose each edge weight is increased by 1, the minimum spanning tree T will not change"
   ]
  },
  {
   "cell_type": "markdown",
   "id": "ec7d1c29",
   "metadata": {},
   "source": [
    "# Problem 1.2"
   ]
  },
  {
   "cell_type": "markdown",
   "id": "cae30881",
   "metadata": {},
   "source": [
    "Which of the following statements about a tree of n nodes is wrong? \n",
    "\n",
    "(A) A tree is a connected graph with at most n − 1 edges\n",
    "\n",
    "(B) Removing the root node is the only way to disconnect the tree \n",
    "\n",
    "(C) Adding one edge in the tree will create exactly one cycle\n",
    "\n",
    "(D) There is one unique path between every pair of vertices\n"
   ]
  },
  {
   "cell_type": "markdown",
   "id": "365b20c2",
   "metadata": {},
   "source": [
    "# Solution:\n",
    "(B) Removing the root node is the only way to disconnect the tree"
   ]
  },
  {
   "cell_type": "markdown",
   "id": "3047e148",
   "metadata": {},
   "source": [
    "# Problem 1.3"
   ]
  },
  {
   "cell_type": "markdown",
   "id": "d6c3d8f3",
   "metadata": {},
   "source": [
    "Which of the following statements about a Binary Search Tree with distinct n elements is wrong? \n",
    "\n",
    "(A) The left child is always lesser than its parent\n",
    "\n",
    "(B) The smallest element is always at the leaf of the tree\n",
    "\n",
    "(C) A search operation takes O(n) time\n",
    "\n",
    "(D) Every non-root node has exactly one parent\n"
   ]
  },
  {
   "cell_type": "markdown",
   "id": "05712093",
   "metadata": {},
   "source": [
    "# Solution:\n",
    "(B) The smallest element is always at the leaf of the tree"
   ]
  },
  {
   "cell_type": "markdown",
   "id": "500947a2",
   "metadata": {},
   "source": [
    "# Problem 1.4"
   ]
  },
  {
   "cell_type": "markdown",
   "id": "22f8df00",
   "metadata": {},
   "source": [
    "The algorithm in concern has a time complexity of O(n2). The algorithm takes 40 seconds to run with input size 10. How much time it will require to run with input size 30?\n",
    "\n",
    "(A) 2 minutes\n",
    "\n",
    "(B) 4 minutes \n",
    "\n",
    "(C) 5 minutes \n",
    "\n",
    "(D) 6 minutes"
   ]
  },
  {
   "cell_type": "markdown",
   "id": "1a2301cf",
   "metadata": {},
   "source": [
    "# Solution:\n",
    "(D) 6 minutes"
   ]
  },
  {
   "cell_type": "markdown",
   "id": "70e15125",
   "metadata": {},
   "source": [
    "# Problem 1.5"
   ]
  },
  {
   "cell_type": "markdown",
   "id": "5fac9b23",
   "metadata": {},
   "source": [
    "Consider the following unsorted array of strings, R = {cat, him, ham, bat}. What will be the order of elements of R after the first iteration of LSD Radix sort if we want to sort the array in an ascending order?\n",
    "\n",
    "(A) {ham, him, cat, bat} \n",
    "\n",
    "(B) {him, ham, cat, bat} \n",
    "\n",
    "(C) {him, ham, bat, cat} \n",
    "\n",
    "(D) {ham, him, bat, cat}"
   ]
  },
  {
   "cell_type": "markdown",
   "id": "c3ce8813",
   "metadata": {},
   "source": [
    "# Solution:\n",
    "    (B) {him, ham, cat, bat}"
   ]
  },
  {
   "cell_type": "markdown",
   "id": "963b9146",
   "metadata": {},
   "source": [
    "# Problem 1.6"
   ]
  },
  {
   "cell_type": "markdown",
   "id": "ca199d07",
   "metadata": {},
   "source": [
    "Using Brute-Force pattern matching algorithm, which pattern below will give you the fastest match with the given string “abacaabaccabacabaabb\"?\n",
    "\n",
    "(A) bacab \n",
    "\n",
    "(B) cabac \n",
    "\n",
    "(C) baabb \n",
    "\n",
    "(D) bacca"
   ]
  },
  {
   "cell_type": "markdown",
   "id": "39dd318c",
   "metadata": {},
   "source": [
    "# Solution:\n",
    "(D) bacca"
   ]
  },
  {
   "cell_type": "markdown",
   "id": "a6e5edeb",
   "metadata": {},
   "source": [
    "# Problem 2"
   ]
  },
  {
   "cell_type": "markdown",
   "id": "af6ebf97",
   "metadata": {},
   "source": [
    "Let G = (V, E) be a connected directed graph with non-negative edge weights. Let s and t be vertices of G. We delete c (not a constant number) edges in G to get a subgraph H. Suppose we want to add back exactly one deleted edge into H, so that the shortest path from s to t in the resulting graph is as short as possible.\n",
    "Describe an algorithm that chooses the best edge to reinsert. Your algorithm should run in O(m log n) time in which m is the number of edges and n is the number of vertices in G.\n",
    "Hint 1: Dijkstra’s algorithm runs in O(m log n) time on graph G.\n",
    "Hint 2: Number of deleted edges c is not a constant number, so running Dijkstra’s algorithm c\n",
    "times will result in O(c m log n) running time"
   ]
  },
  {
   "cell_type": "code",
   "execution_count": null,
   "id": "f21af15a",
   "metadata": {},
   "outputs": [],
   "source": [
    "# Algorithm:\n",
    "\n",
    " n=|V| \n",
    " \n",
    " Run Dijkstra's Algorithm on H, with source s \n",
    " \n",
    "##returns all the distance : minimum distances from s to all other vertices. Time Complexity: O(mlogn)\n",
    "    \n",
    " For all edges e=(x,y) in E:\n",
    "     e_rev=(y,x)\n",
    "     \n",
    " Run Dijkstra's Algorithm on H_rev=(V,E_rev), with source t \n",
    " \n",
    " \n",
    " #######      returns dist_new[0],...,dist_new[n-1]: minimum distances from t to all other vertices. Time Complexity: O(mlogn)\n",
    "    \n",
    " for i=0 to c-1:\n",
    " \n",
    "     cost[i]=w[i]+dist(xi)+dist_rev(yi)\n",
    "     \n",
    "     \n",
    "return (xi, yi) such that cost[i] is minimum"
   ]
  },
  {
   "cell_type": "markdown",
   "id": "b6f9a875",
   "metadata": {},
   "source": [
    "# Explanation:\n",
    "\n",
    "let 0,1,2,...,n-1 denote indexes of all the vertices of Graph G \n",
    "Let H = (V, E'), where E' ⊂ E\n",
    "\n",
    "Run Dijkstra's Algorithm on H, with source s to get minimum distances for all vertices from s. \n",
    "\n",
    " let e_rev=(y,x) (we are reversing the directions all edges in E')\n",
    "Let H_rev = (V, E_rev), where E_rev is the set of all edges e_rev (create a new graph from H with all its edges reversed)\n",
    "\n",
    "\n",
    "Run Dijkstra's Algorithm on H_rev, with source t to get minimum distances for all vertices from t. \n",
    "\n",
    "Let dist*[0], dist*[1],...,dist*[n-1] be the minimum distances from t to all other vertices (generated by Dijkstra's Algo)\n",
    "\n",
    "Let w[0], w[1],...,w[c-1] be the weights of all the c edges that are deleted\n",
    "\n",
    "k=0,1,2,...,c-1\n",
    "\n",
    "For each deleted edge w[k] which connects vertex indices i and j,\n",
    "calculate: cost[k]=w[k]+dist'(i)+dist*(j) \n",
    "\n",
    "return vertex i, vertex j corresponding to the minimum cost[k] \n"
   ]
  },
  {
   "cell_type": "markdown",
   "id": "a008f124",
   "metadata": {},
   "source": [
    "# Problem 3:\n",
    "Let G = (V, E) be a connected undirected graph with m edges and n nodes. If we remove a node v from G, we get a subgraph Gv. Given a graph G and a node v, how can you know if subgraph Gv is connected or not? Please describe a O(m + n) algorithm to decide the connectivity of Gv ."
   ]
  },
  {
   "cell_type": "markdown",
   "id": "3f886844",
   "metadata": {},
   "source": [
    "# Solution:\n",
    "\n",
    "    Given a Graph(V, E) If we delete a node from Graph then first we will have to remove the node from the node list and remove all the connected edges to it from edge list .After deletion we will check the connectivity of the graph. For checking the connectivity of the graph we will traverse the graph starting from one node using DFS and adding the connected edges .we will maintain the visited list with length equal to the nodes in the graph after removing the node and mark it as True once visited . At the end of the DFS search if the all indexes are True in the visited list then the graph is connected otherwise its disconnected :\n",
    "    "
   ]
  },
  {
   "cell_type": "markdown",
   "id": "a64f5423",
   "metadata": {},
   "source": [
    "# Algorithm\n",
    "\n",
    "    Is connected(self):\n",
    "        visited = [False] * self.V\n",
    "        Find all reachable vertices from first vertex\n",
    "        DFS(0,visited)\n",
    "        for i in range(1, self.V)\n",
    "            if(visited[i] == False)\n",
    "                return False\n",
    "            return True\n",
    "   \n",
    "   \n"
   ]
  },
  {
   "cell_type": "markdown",
   "id": "f45ac6b9",
   "metadata": {},
   "source": [
    "   Time Complexity of the DFS is O(V+E) i.e O(m+n) and the time complexity to iterate over the visited list is O(V) or O(m) sor overall complexity is O(m+n)"
   ]
  },
  {
   "cell_type": "markdown",
   "id": "644354b8",
   "metadata": {},
   "source": [
    "# Problem 4:"
   ]
  },
  {
   "cell_type": "markdown",
   "id": "22dd7032",
   "metadata": {},
   "source": [
    "A long string (10,000 characters) consists of four characters: A, T, G, C; they appear with fre- quency 1/2, 1/4, 1/8 and 1/8, respectively.\n",
    "(a) What is the Huffman encoding for each character in the alphabet? Draw the Huffman en- coding tree for each step of the algorithm. The final Huffman encoding tree should look like the following tree. You may draw by hand and upload a picture.\n",
    "(b) Originally each character is represented in two bits. How many bits are saved if we use the new encoding scheme we obtained in the previous question?"
   ]
  },
  {
   "cell_type": "markdown",
   "id": "f1bfdc4c",
   "metadata": {},
   "source": [
    "# Solution:\n",
    "\n",
    "(a) Codes for each character: \n",
    "A: 0 \n",
    "T: 10 \n",
    "G: 110 \n",
    "C: 111 \n",
    "\n",
    "(b) Number of bits saved = 20000-17500 = 2500\n",
    "\n",
    "Solution attached as picture along with jupyter notebook in canvas\n",
    "    "
   ]
  },
  {
   "cell_type": "markdown",
   "id": "253a7d88",
   "metadata": {},
   "source": [
    "# Problem 5:"
   ]
  },
  {
   "cell_type": "markdown",
   "id": "3f7fc643",
   "metadata": {},
   "source": [
    "Let G = (V,E) be a undirected graph with m edges and n nodes; and let T = (V,E′) be its minimum spanning tree. All edge weights are distinct. Assume we remove an edge (u, v) ∈ E′ from graph G. Describe an algorithm to update the minimum spanning tree in O(m) time.\n",
    "1. Hint 1: The removal of edge (u, v) disconnects the spanning tree T in to two set of nodes A and B. Without a loss of generality, we may assume u ∈ A and v ∈ B.\n",
    "2. Hint 2: We need to find the smallest weight edge whose one end node in A and the other end node in B.\n",
    "3. Hint 3: In order to get full marks, you need to state clearly what algorithm you use to find set A and B; what data structure you use to efficiently look up for target edge; and what are the running time of each portion of your algorithm."
   ]
  },
  {
   "cell_type": "markdown",
   "id": "615a8471",
   "metadata": {},
   "source": [
    "Solution:\n",
    "    Since removal of the edge discoonects the spanning tree into two sets of the node .First we will find the sets A and B using BFS .Now traverse the edge list of G - (u,v) to find a minimum weight edge connecting a A vertex belonging in set A  with a B vertex belonging in set B.and then find the smallest weight of we can use min heap and for efficiently looking for target edge that connects other tree . Th datastructure used to efficiently look up for the target edge would be priority queue.\n",
    "    \n",
    "    "
   ]
  },
  {
   "cell_type": "markdown",
   "id": "93d69507",
   "metadata": {},
   "source": [
    "# Algorithm:\n",
    "    for i in range(edge_list):\n",
    "        set v[i] = False\n",
    "    the Enqueue(Q,s):\n",
    "        v[s] = True\n",
    "\n",
    "    Find A and B by traversing using BFS\n",
    "    while(Q):\n",
    "        u = Dequeue(Q)\n",
    "        for every edge(u,v) in the MST\n",
    "        if(vertex visited == False):\n",
    "            Enqueu(Q,v)\n",
    "            V[v] = true\n",
    "        \n",
    "    minimum edge calculation using min heap which internally has priority queue\n",
    "    \n",
    "    for every edge(u,v) in the graph:\n",
    "        if (v[v]!= v[u] && w(u,v) < min)\n",
    "        {min = w(u,v); a = u; b=v}\n",
    "        \n",
    "    find the edges connecting other tree \n",
    "    Add the edge(a,b) to the MST\n",
    "    The new MST is this edge plus A and B.\n",
    "    \n",
    "    "
   ]
  },
  {
   "cell_type": "markdown",
   "id": "6b4da2df",
   "metadata": {},
   "source": [
    "The running time of BFS is  O(E+V). The time taken to return minimum edge is min heap is logn and . So overall all complexity will be O(V+E) equivalent to O(m).\n"
   ]
  },
  {
   "cell_type": "markdown",
   "id": "cd39b311",
   "metadata": {},
   "source": [
    "# Problem 6"
   ]
  },
  {
   "cell_type": "markdown",
   "id": "cf5cac33",
   "metadata": {},
   "source": [
    "We would like to solve word search puzzle problem in which we are given a N by N charac- ter board and N words. In the word search puzzle, the N words may be placed horizontally, vertically, or diagonally in the world puzzle board. Your task is to find all the N words.\n",
    "If you are not familiar with word search puzzle, please refer to https://thewordsearch. com for more details.\n",
    "Please describe a O(N3) algorithm to solve this problem. You need to specify what data structure you use and what are the time complexity at each step."
   ]
  },
  {
   "cell_type": "markdown",
   "id": "06e1c4dc",
   "metadata": {},
   "source": [
    "Solution:\n",
    "    \n",
    "    We will be using Trie data structure to find all the N words efficiently . we will achieve it in two steps as below:\n",
    "    \n",
    "    1. Insert all the words in trie .\n",
    "    2. In the N*N matrix of characters perform backtracking using DFS in all 8 directions to find all the words.\n",
    "    \n",
    "    Time Complexity = O(N^2 * 8*N)+O(N^2) = O(N^3)\n",
    "    \n",
    "    "
   ]
  },
  {
   "cell_type": "code",
   "execution_count": null,
   "id": "5a3569b4",
   "metadata": {},
   "outputs": [],
   "source": [
    "ALGORITHM:\n",
    "    Loop over each cell on the board and a recursive funtcion call starting from the cell.\n",
    "    \n",
    "    we build a Trie out of the words in the dictionary which could be used for matching purpose.. time complexity O(N^2)\n",
    "    \n",
    "    Starting from the each cell we start the backtracking explorationif there exist any word in the dictionary that starts with\n",
    "    letter in the cell  --- O(N^2* 8*N)\n",
    "    \n",
    "    During the recursive function call we explore the neighbouring cell around the current cell for the next recurssive\n",
    "    call. At each step we check the sequence of letters that we traversed so far matches with any word in the dictionary\n",
    "    "
   ]
  },
  {
   "cell_type": "markdown",
   "id": "cd47d8c1",
   "metadata": {},
   "source": [
    "# Problem 7"
   ]
  },
  {
   "cell_type": "markdown",
   "id": "b85b1422",
   "metadata": {},
   "source": [
    "What is the time complexity of the function calc in big-Oh? What is the return value k in terms of big-Oh notion? For full credit please show your work step by step.\n"
   ]
  },
  {
   "cell_type": "code",
   "execution_count": null,
   "id": "b4ef9085",
   "metadata": {},
   "outputs": [],
   "source": [
    "def\n",
    "calc(n):\n",
    "    k=0\n",
    "    i = n/2 \n",
    "    while(i<=n):\n",
    "        i=i+1 \n",
    "        j=2 \n",
    "        while(j<=n):\n",
    "        j=j*2\n",
    "        k = k + n/2\n",
    "return k"
   ]
  },
  {
   "cell_type": "markdown",
   "id": "e005f378",
   "metadata": {},
   "source": [
    "# Solution:\n",
    "    \n",
    "    k = 0                    --------- O(1)\n",
    "    i = n/2                  ----------O(1)\n",
    "    while(i<=n):             ----------O(n/2) (outer loop runs n/2 times as value of i = n/2)\n",
    "        i = i+1              ----------O(1)\n",
    "        j = 2                ----------O(1)\n",
    "        while(j <=n):        ----------O(logn)   (inner loop runs log n times as j is halved in every iteration)\n",
    "            j = J *2         ----------O(1)\n",
    "            k = k*2          ----------O(1)\n",
    "    return k                 ----------O(1)\n",
    "\n",
    "\n",
    "Time Complexity = O(1)+O(1)+ (O(n/2)*(O(1)+O(1)+O(logn)*(O(1)+O(1))))\n",
    "\n",
    "                = O(n/2)*(O(logn))    (neglecting small values)\n",
    "                \n",
    "                = O(n/2 * logn)\n",
    "                \n",
    "                or O(nlogn)\n",
    "            \n",
    "value of k = n/2 logn * n/2\n",
    "\n",
    "           = (n^2 /4) logn\n",
    "           \n",
    "            = (n^2logn)  ------ In terms of big-oh"
   ]
  },
  {
   "cell_type": "markdown",
   "id": "2a96ca4b",
   "metadata": {},
   "source": [
    "# Problem 8"
   ]
  },
  {
   "cell_type": "markdown",
   "id": "cfa231af",
   "metadata": {},
   "source": [
    "What are the advantages of QuickSort over MergeSort? If we want to sort a linked list of elements, which one between them should we choose? Please explain your answer."
   ]
  },
  {
   "cell_type": "markdown",
   "id": "1a109b31",
   "metadata": {},
   "source": [
    "# Solution:\n",
    "(a) Advantages of QuickSort over MergeSort: \n",
    "\n",
    "QuickSort is an inplace sorting algorithm as opposed to MergeSort which uses an additional O(n) auxiliary space. \n",
    "Locality of reference .\n",
    "\n",
    "memory location that are closer to each other are accessible faster hence quicksort performs better as its partitioning step has better locality as it access elements that are adjacent to each other.\n",
    "\n",
    "Worst case can be avoided \n",
    "The worst case time complexity of QuickSort can be avoided in very high probability by choosing the pivot element randomly. This leads to an average case time complexity of O(nlogn) which is at par with MergeSort\n",
    "\n",
    "(b) If we want to sort a linked list of elements then we should choose MergeSort as merge sort performs better than quicksort in case of linked list as linked list negates that advantages like locality of reference as in linked list subsequent nodes might not be in the adjacent memory\n",
    "In case of linked lists, merge sort does not require auxiliary space for its merge operations. So, even the memory advantage of QuickSort over MergeSort doesn't hold true in case of linked lists.\n",
    "\n",
    "For Accessing a element in linked we have to traverse to the index of that element node by node So accessing random element requires more memory and since quicksort depends on multiple memory access of this kind therefor uses a lot of memory."
   ]
  },
  {
   "cell_type": "markdown",
   "id": "ac5bf8d9",
   "metadata": {},
   "source": [
    "# Problem 9"
   ]
  },
  {
   "cell_type": "markdown",
   "id": "a0e48419",
   "metadata": {},
   "source": [
    "Consider a pattern matching problem with string s = “GCATGACTGCGTGACC\" and pattern p= “CTGC\". Using the Boyer-Moore algorithm find the lowest index i within s at which the matched (with p) substring begins. Follow the simplified Boyer-Moore algorithm step by step to find the value of i as well as demonstrate how many comparisons are made."
   ]
  },
  {
   "cell_type": "markdown",
   "id": "22e00ae0",
   "metadata": {},
   "source": [
    "# Solution:\n",
    "    step1:\n",
    "        \n",
    "    s = GCATGACTGCGTGACC\n",
    "    p = CTGC\n",
    "    \n",
    "    In first step there in case of boyer moore the comparision starts from the end of of the pattern . So the first     comparision is between \"T\" and \"C\" and since the character is not same so by bad character rule we will move       the pattern all the way till occurance of T in the pattern.\n",
    "    \n",
    "    Step2:\n",
    "    s = GCATGACTGCGTGACC\n",
    "    p =   CTGC\n",
    "    \n",
    "    In the seond step after moving the pattern string all the way till occurance of T in the pattern again we start from the end of the pattern character and compare \"A\" with \"C\" and since it does not match so by bad charcter rule we again move pattern till there is occurance of A in pattern but since there is no A in pattern we move it all the way after A.\n",
    "    \n",
    "    Step3:\n",
    "    s = GCATGACTGCGTGACC\n",
    "    p =       CTGC\n",
    "    \n",
    "    In the third step again we compare again the last charcter of the pattern with corresponding character in s i.e we compare \"C\" with \"C\" since it is a match we move left and compare \"G\" with \"G\" and gain \"T\" with \"T\" and \"C\" with \"C\" .since all the character of the pattern matches we return the index of pattern found as 6(taking initial index at 0) \n",
    "    \n",
    "    **Total number of comparision made are 1+1+4 = 6"
   ]
  },
  {
   "cell_type": "markdown",
   "id": "a6648392",
   "metadata": {},
   "source": [
    "# Problem 10:"
   ]
  },
  {
   "cell_type": "markdown",
   "id": "616cb648",
   "metadata": {},
   "source": [
    "Consider an array of n positive integers, A = {a1, a2, ..., an} and a positive integer m. Using a top down dynamic programming method, design an algorithms that answers us if some subset ofA add up to m where you can use each an at most once.\n",
    "For example, a list of 5 positive integers A = {3, 7, 11, 15, 21} and the given integer m = 25. Your designed problem will answer True as a subset of A, {3, 7, 15}, sums to the given value of m.\n",
    "Prove the correctness of your algorithm and show the computation time with regards to big-Oh notion."
   ]
  },
  {
   "cell_type": "markdown",
   "id": "fab61778",
   "metadata": {},
   "source": [
    "Solution:\n",
    "    We can solve this problem using dynamic programming where we will create a table of size (arr.size+1)*(interger m). The state of the table[i][j] will be true if there exist a subset of element from input array a[0,1,....i] whose sum is equal to j "
   ]
  },
  {
   "cell_type": "markdown",
   "id": "d1e3d567",
   "metadata": {},
   "source": [
    "# Algorithm:\n",
    "    create table as and initialize it with boolean False.\n",
    "    [[False for i in range(m+1)] for j in range (len(A)+1)]\n",
    "    \n",
    "    if integer m is zero then return set True in that column\n",
    "    integer m is not zero but the input is empty then set false in that row\n",
    "    \n",
    "    fill the table\n",
    "    for i in range(1, len(A)+1):\n",
    "        for j in range(1, m + 1):\n",
    "            if j >= A[i - 1]:\n",
    "                table[i][j] = table[i-1][j] || table[i-1][j- A[i - 1]]\n",
    "            if j < A[i -1]:\n",
    "                table[i][j] = table[i -1][j]\n",
    "    return table[len(A)][m]\n",
    "    "
   ]
  },
  {
   "cell_type": "markdown",
   "id": "d724cebc",
   "metadata": {},
   "source": [
    "[[True, False, False, False, False, False, False, False, False, False, False, False, False, False, False, False, False, False, False, False, False, False, False, False, False, False], [True, False, False, True, False, False, False, False, False, False, False, False, False, False, False, False, False, False, False, False, False, False, False, False, False, False], [True, False, False, True, False, False, False, True, False, False, True, False, False, False, False, False, False, False, False, False, False, False, False, False, False, False], [True, False, False, True, False, False, False, True, False, False, True, True, False, False, True, False, False, False, True, False, False, True, False, False, False, False], [True, False, False, True, False, False, False, True, False, False, True, True, False, False, True, True, False, False, True, False, False, True, True, False, False, True], [True, False, False, True, False, False, False, True, False, False, True, True, False, False, True, True, False, False, True, False, False, True, True, False, True, True]]\n"
   ]
  },
  {
   "cell_type": "markdown",
   "id": "588d49e2",
   "metadata": {},
   "source": [
    "Above table is formed on running the algorith of size 6*26 and we can see at the table[6][26] we have true and hence the subset exist an we can get the subset by backtracking just one row up until there is true and a row and input at the row to the left if it is false. and hence we get [3,7,17]. \n",
    "\n",
    "Time complexity - O(input.size of A * integer m)\n",
    "\n",
    "Space complexity - O(input.size of A *integer m)\n"
   ]
  },
  {
   "cell_type": "code",
   "execution_count": null,
   "id": "6ea324bf",
   "metadata": {},
   "outputs": [],
   "source": []
  },
  {
   "cell_type": "markdown",
   "id": "7f61495d",
   "metadata": {},
   "source": [
    "# Problem 11:"
   ]
  },
  {
   "cell_type": "markdown",
   "id": "18065597",
   "metadata": {},
   "source": [
    "Consider the following completed dynamic programming table, L, for a Longest Common Subsequence problem for string X with length 10 and string Y with length 12.\n",
    "X\\Y -1 0 1 2 3 4 5 6 7 8 9 10 11 -1 0 0 0 0 0 0 0 0 0 0 0 0 0 00011111111111 10011222222222 20011222333333 30111222333333 40111222333333 50111222344444 60112233344555 70112234444446 80112334555556 90112344555666\n",
    "• What is the length of the longest common subsequence? Explain. Answer this question on the perspective of just by looking at the values of the table L.\n",
    "• Show the path, in L(i, j), that a tracking algorithm will take to recover the longest common subsequence starting from L(9, 11). Given: the characters of X with indices {4, 5, 6, 7, 8, 9} match with the characters of Y with indices {0, 3, 4, 5, 7, 11}.\n",
    "Note: Traverse the 2D array starting from L[9][11]. Do following for every cell L[i][j]:\n",
    "• If characters (in X and Y ) corresponding to L[i][j] are same (Or X[i − 1] == Y [j − 1]),\n",
    "then include this character as part of LCS and move to L[i − 1][j − 1] cell.\n",
    "• Else compare value of L[i][j] with L[i − 1][j] and L[i][j − 1] and go in direction of greater\n",
    "value."
   ]
  },
  {
   "cell_type": "markdown",
   "id": "997d48f6",
   "metadata": {},
   "source": [
    "# Solution:\n",
    "    The length of the longest common subsequence is 6 which can be observer from the table looking at the L(9,11) index. Since we we start from top and the character is not maching then we take max of L[i-1] and L[j-1] or if it matches we take 1+ the previous digaonal value so every value in the table represents the length of the longest subsequence.\n",
    "    \n",
    "    Path ::\n",
    "    save X[9]                       save X[8]            save X[7]  save X[6]. save X[5].      \n",
    "    L(9,11) -> L(8,10) -> L(8,9) -> L(8,7) - > L(7,6) -> L(7,5) - > L(6,4) - > L(5,3) - > L(4,2) - > L(4,1) - >         \n",
    "    save X[4]\n",
    "    L(4,0) - > L(3,-1)\n",
    "    \n",
    "    \n",
    "    Values saved - (save X[9] ,save X[8] ,save X[7]  save X[6], save X[5], save X[4])\n",
    "    Total 6"
   ]
  },
  {
   "cell_type": "markdown",
   "id": "9273e7e0",
   "metadata": {},
   "source": [
    "# Programming problem 1 is in another jupyter notebook named as MST-sbipink.ipynb"
   ]
  },
  {
   "cell_type": "markdown",
   "id": "1ce5b3ca",
   "metadata": {},
   "source": [
    "# Programming Problem 2:"
   ]
  },
  {
   "cell_type": "markdown",
   "id": "41dcc942",
   "metadata": {},
   "source": [
    "A modified knapsack problem is that for a given set of positive integers {a1, a2, ..., an}, a knap- sack of size s, find a subset A of {a1, a2, ..., an} such that the sum of elements in A is the largest, but at most s. Write a program using Python to solve this problem using a top down dynamic programming method.\n",
    "Test your program for the following modified knapsack problem:\n",
    "Input list: {5, 23, 27, 37, 48, 51, 63, 67, 71, 75, 70, 83, 889, 91, 101, 112, 121, 132, 137, 141, 143, 147, 153, 159, 171, 181, 190, 191} with knapsack size s = 762. Print out a subset along with the sum of its elements so that the sum has the closest distance to 762."
   ]
  },
  {
   "cell_type": "code",
   "execution_count": 2,
   "id": "a6be62fa",
   "metadata": {},
   "outputs": [
    {
     "name": "stdout",
     "output_type": "stream",
     "text": [
      "Found a subset with given sum 761 and subset as [5, 23, 27, 37, 48, 63, 67, 71, 75, 70, 83, 91, 101]\n"
     ]
    }
   ],
   "source": [
    "def subset_sum(input, sum):\n",
    "    #create the boolean table for storing possibilties\n",
    "    #input.sort()\n",
    "    table = ([[False for i in range(sum +1)]\n",
    "             for j in range(len(input)+1)])\n",
    "    #print(table)\n",
    "    #enter true for 0th colums\n",
    "    for i in range(len(input) + 1):\n",
    "        table[i][0] = True\n",
    "\n",
    "    #if sum is 0 or set is empty return False\n",
    "    for i in range(1, sum + 1):\n",
    "        table[0][i] = False\n",
    "\n",
    "    #Storing the subset:\n",
    "    subset = []\n",
    "    #filling the entire table by checking if the sum can be formed with the given input or not\n",
    "\n",
    "    for i in range(1, len(input) + 1):\n",
    "        for j in range(1, sum + 1):\n",
    "            if j < input[i - 1]:\n",
    "                table[i][j] = table[i -1][j]\n",
    "            if j >= input[i - 1]:\n",
    "                    table[i][j] = (table[i - 1][j] or table[i - 1][j - input[i - 1]])\n",
    "\n",
    "    #print(table)\n",
    "    ## get the subset which that sum or less\n",
    "    n = len(input)\n",
    "    if(table[n][sum]):\n",
    "        subset = backtracking(table,input,sum,n,sum)\n",
    "        #print(\"subset from 1\",subset)\n",
    "        #print(\"sum\",sum)\n",
    "        return subset, sum\n",
    "\n",
    "    else:\n",
    "        for i in range(len(input), 0, -1):\n",
    "            for j in range(sum, 0, -1):\n",
    "                if table[i][j] == True:\n",
    "                    subset= backtracking(table,input,j, i, j)\n",
    "                    #print(\"subset\", subset)\n",
    "                    #print(\"sum\", j)\n",
    "                    return subset, j\n",
    "\n",
    "\n",
    "\n",
    "\n",
    "def backtracking(table,input, sum , row ,col):\n",
    "    subset = []\n",
    "    while (col> 0):\n",
    "        if(table[row][col] == True):\n",
    "            row -= 1\n",
    "        else:\n",
    "            subset.append(input[row])\n",
    "            col -= input[row]\n",
    "\n",
    "    return subset\n",
    "\n",
    "\n",
    "\n",
    "\n",
    "if __name__=='__main__':\n",
    "    input = [5, 23, 27, 37, 48, 51, 63, 67, 71, 75, 70, 83, 889, 91, 101, 112, 121, 132, 137, 141, 143, 147, 153, 159, 171, 181, 190, 191]\n",
    "    sum = 761\n",
    "    n = len(input)\n",
    "    subset_list, output_sum = subset_sum(input, sum)\n",
    "    #print(subset_list)\n",
    "    if(output_sum == sum):\n",
    "        print(\"Found a subset with given sum {} and subset as {}\".format(sum, subset_list[::-1]))\n",
    "    else:\n",
    "        print(\"Found a subset with lower sum which is {} and subset as {}\".format(output_sum, subset_list[::-1]))\n"
   ]
  },
  {
   "cell_type": "markdown",
   "id": "e347d330",
   "metadata": {},
   "source": [
    "Time complexity - O(input.size of A * integer m)\n",
    "\n",
    "Space complexity - O(input.size of A *integer m)"
   ]
  },
  {
   "cell_type": "code",
   "execution_count": null,
   "id": "2772be39",
   "metadata": {},
   "outputs": [],
   "source": []
  }
 ],
 "metadata": {
  "kernelspec": {
   "display_name": "Python 3 (ipykernel)",
   "language": "python",
   "name": "python3"
  },
  "language_info": {
   "codemirror_mode": {
    "name": "ipython",
    "version": 3
   },
   "file_extension": ".py",
   "mimetype": "text/x-python",
   "name": "python",
   "nbconvert_exporter": "python",
   "pygments_lexer": "ipython3",
   "version": "3.9.7"
  }
 },
 "nbformat": 4,
 "nbformat_minor": 5
}
